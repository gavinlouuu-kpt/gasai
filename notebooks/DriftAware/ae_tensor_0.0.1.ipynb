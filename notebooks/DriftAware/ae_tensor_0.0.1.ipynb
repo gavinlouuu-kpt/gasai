{
 "cells": [
  {
   "cell_type": "code",
   "execution_count": 1,
   "metadata": {},
   "outputs": [
    {
     "data": {
      "text/html": [
       "<pre style=\"white-space:pre;overflow-x:auto;line-height:normal;font-family:Menlo,'DejaVu Sans Mono',consolas,'Courier New',monospace\"><span style=\"color: #7fbfbf; text-decoration-color: #7fbfbf\">[05/16/24 12:19:56] </span><span style=\"color: #000080; text-decoration-color: #000080\">INFO    </span> Registered line magic <span style=\"color: #008000; text-decoration-color: #008000\">'%reload_kedro'</span>                                   <a href=\"file:///Users/gavinlou/.pyenv/versions/3.10.13/envs/kedro/lib/python3.10/site-packages/kedro/ipython/__init__.py\" target=\"_blank\"><span style=\"color: #7f7f7f; text-decoration-color: #7f7f7f\">__init__.py</span></a><span style=\"color: #7f7f7f; text-decoration-color: #7f7f7f\">:</span><a href=\"file:///Users/gavinlou/.pyenv/versions/3.10.13/envs/kedro/lib/python3.10/site-packages/kedro/ipython/__init__.py#51\" target=\"_blank\"><span style=\"color: #7f7f7f; text-decoration-color: #7f7f7f\">51</span></a>\n",
       "</pre>\n"
      ],
      "text/plain": [
       "\u001b[2;36m[05/16/24 12:19:56]\u001b[0m\u001b[2;36m \u001b[0m\u001b[34mINFO    \u001b[0m Registered line magic \u001b[32m'%reload_kedro'\u001b[0m                                   \u001b]8;id=3446;file:///Users/gavinlou/.pyenv/versions/3.10.13/envs/kedro/lib/python3.10/site-packages/kedro/ipython/__init__.py\u001b\\\u001b[2m__init__.py\u001b[0m\u001b]8;;\u001b\\\u001b[2m:\u001b[0m\u001b]8;id=478778;file:///Users/gavinlou/.pyenv/versions/3.10.13/envs/kedro/lib/python3.10/site-packages/kedro/ipython/__init__.py#51\u001b\\\u001b[2m51\u001b[0m\u001b]8;;\u001b\\\n"
      ]
     },
     "metadata": {},
     "output_type": "display_data"
    },
    {
     "data": {
      "text/html": [
       "<pre style=\"white-space:pre;overflow-x:auto;line-height:normal;font-family:Menlo,'DejaVu Sans Mono',consolas,'Courier New',monospace\"><span style=\"color: #7fbfbf; text-decoration-color: #7fbfbf\">                    </span><span style=\"color: #000080; text-decoration-color: #000080\">INFO    </span> Registered line magic <span style=\"color: #008000; text-decoration-color: #008000\">'%load_node'</span>                                      <a href=\"file:///Users/gavinlou/.pyenv/versions/3.10.13/envs/kedro/lib/python3.10/site-packages/kedro/ipython/__init__.py\" target=\"_blank\"><span style=\"color: #7f7f7f; text-decoration-color: #7f7f7f\">__init__.py</span></a><span style=\"color: #7f7f7f; text-decoration-color: #7f7f7f\">:</span><a href=\"file:///Users/gavinlou/.pyenv/versions/3.10.13/envs/kedro/lib/python3.10/site-packages/kedro/ipython/__init__.py#53\" target=\"_blank\"><span style=\"color: #7f7f7f; text-decoration-color: #7f7f7f\">53</span></a>\n",
       "</pre>\n"
      ],
      "text/plain": [
       "\u001b[2;36m                   \u001b[0m\u001b[2;36m \u001b[0m\u001b[34mINFO    \u001b[0m Registered line magic \u001b[32m'%load_node'\u001b[0m                                      \u001b]8;id=618556;file:///Users/gavinlou/.pyenv/versions/3.10.13/envs/kedro/lib/python3.10/site-packages/kedro/ipython/__init__.py\u001b\\\u001b[2m__init__.py\u001b[0m\u001b]8;;\u001b\\\u001b[2m:\u001b[0m\u001b]8;id=909302;file:///Users/gavinlou/.pyenv/versions/3.10.13/envs/kedro/lib/python3.10/site-packages/kedro/ipython/__init__.py#53\u001b\\\u001b[2m53\u001b[0m\u001b]8;;\u001b\\\n"
      ]
     },
     "metadata": {},
     "output_type": "display_data"
    },
    {
     "data": {
      "text/html": [
       "<pre style=\"white-space:pre;overflow-x:auto;line-height:normal;font-family:Menlo,'DejaVu Sans Mono',consolas,'Courier New',monospace\"><span style=\"color: #7fbfbf; text-decoration-color: #7fbfbf\">                    </span><span style=\"color: #000080; text-decoration-color: #000080\">INFO    </span> Resolved project path as: <span style=\"color: #800080; text-decoration-color: #800080\">/Users/gavinlou/Developer/</span><span style=\"color: #ff00ff; text-decoration-color: #ff00ff\">gasai.</span>             <a href=\"file:///Users/gavinlou/.pyenv/versions/3.10.13/envs/kedro/lib/python3.10/site-packages/kedro/ipython/__init__.py\" target=\"_blank\"><span style=\"color: #7f7f7f; text-decoration-color: #7f7f7f\">__init__.py</span></a><span style=\"color: #7f7f7f; text-decoration-color: #7f7f7f\">:</span><a href=\"file:///Users/gavinlou/.pyenv/versions/3.10.13/envs/kedro/lib/python3.10/site-packages/kedro/ipython/__init__.py#164\" target=\"_blank\"><span style=\"color: #7f7f7f; text-decoration-color: #7f7f7f\">164</span></a>\n",
       "<span style=\"color: #7fbfbf; text-decoration-color: #7fbfbf\">                    </span>         To set a different path, run <span style=\"color: #008000; text-decoration-color: #008000\">'%reload_kedro &lt;project_root&gt;'</span>            <span style=\"color: #7f7f7f; text-decoration-color: #7f7f7f\">               </span>\n",
       "</pre>\n"
      ],
      "text/plain": [
       "\u001b[2;36m                   \u001b[0m\u001b[2;36m \u001b[0m\u001b[34mINFO    \u001b[0m Resolved project path as: \u001b[35m/Users/gavinlou/Developer/\u001b[0m\u001b[95mgasai.\u001b[0m             \u001b]8;id=468371;file:///Users/gavinlou/.pyenv/versions/3.10.13/envs/kedro/lib/python3.10/site-packages/kedro/ipython/__init__.py\u001b\\\u001b[2m__init__.py\u001b[0m\u001b]8;;\u001b\\\u001b[2m:\u001b[0m\u001b]8;id=29283;file:///Users/gavinlou/.pyenv/versions/3.10.13/envs/kedro/lib/python3.10/site-packages/kedro/ipython/__init__.py#164\u001b\\\u001b[2m164\u001b[0m\u001b]8;;\u001b\\\n",
       "\u001b[2;36m                    \u001b[0m         To set a different path, run \u001b[32m'%reload_kedro \u001b[0m\u001b[32m<\u001b[0m\u001b[32mproject_root\u001b[0m\u001b[32m>\u001b[0m\u001b[32m'\u001b[0m            \u001b[2m               \u001b[0m\n"
      ]
     },
     "metadata": {},
     "output_type": "display_data"
    },
    {
     "name": "stderr",
     "output_type": "stream",
     "text": [
      "24/05/16 12:19:58 WARN Utils: Your hostname, Gavins-MacBook-Air.local resolves to a loopback address: 127.0.0.1; using 192.168.1.241 instead (on interface en0)\n",
      "24/05/16 12:19:58 WARN Utils: Set SPARK_LOCAL_IP if you need to bind to another address\n",
      "Setting default log level to \"WARN\".\n",
      "To adjust logging level use sc.setLogLevel(newLevel). For SparkR, use setLogLevel(newLevel).\n",
      "24/05/16 12:19:58 WARN NativeCodeLoader: Unable to load native-hadoop library for your platform... using builtin-java classes where applicable\n",
      "24/05/16 12:19:59 WARN Utils: Service 'SparkUI' could not bind on port 4040. Attempting port 4041.\n"
     ]
    },
    {
     "data": {
      "text/html": [
       "<pre style=\"white-space:pre;overflow-x:auto;line-height:normal;font-family:Menlo,'DejaVu Sans Mono',consolas,'Courier New',monospace\"><span style=\"color: #7fbfbf; text-decoration-color: #7fbfbf\">[05/16/24 12:19:59] </span><span style=\"color: #000080; text-decoration-color: #000080\">INFO    </span> Kedro project gasAI                                                    <a href=\"file:///Users/gavinlou/.pyenv/versions/3.10.13/envs/kedro/lib/python3.10/site-packages/kedro/ipython/__init__.py\" target=\"_blank\"><span style=\"color: #7f7f7f; text-decoration-color: #7f7f7f\">__init__.py</span></a><span style=\"color: #7f7f7f; text-decoration-color: #7f7f7f\">:</span><a href=\"file:///Users/gavinlou/.pyenv/versions/3.10.13/envs/kedro/lib/python3.10/site-packages/kedro/ipython/__init__.py#134\" target=\"_blank\"><span style=\"color: #7f7f7f; text-decoration-color: #7f7f7f\">134</span></a>\n",
       "</pre>\n"
      ],
      "text/plain": [
       "\u001b[2;36m[05/16/24 12:19:59]\u001b[0m\u001b[2;36m \u001b[0m\u001b[34mINFO    \u001b[0m Kedro project gasAI                                                    \u001b]8;id=227761;file:///Users/gavinlou/.pyenv/versions/3.10.13/envs/kedro/lib/python3.10/site-packages/kedro/ipython/__init__.py\u001b\\\u001b[2m__init__.py\u001b[0m\u001b]8;;\u001b\\\u001b[2m:\u001b[0m\u001b]8;id=449506;file:///Users/gavinlou/.pyenv/versions/3.10.13/envs/kedro/lib/python3.10/site-packages/kedro/ipython/__init__.py#134\u001b\\\u001b[2m134\u001b[0m\u001b]8;;\u001b\\\n"
      ]
     },
     "metadata": {},
     "output_type": "display_data"
    },
    {
     "data": {
      "text/html": [
       "<pre style=\"white-space:pre;overflow-x:auto;line-height:normal;font-family:Menlo,'DejaVu Sans Mono',consolas,'Courier New',monospace\"><span style=\"color: #7fbfbf; text-decoration-color: #7fbfbf\">                    </span><span style=\"color: #000080; text-decoration-color: #000080\">INFO    </span> Defined global variable <span style=\"color: #008000; text-decoration-color: #008000\">'context'</span>, <span style=\"color: #008000; text-decoration-color: #008000\">'session'</span>, <span style=\"color: #008000; text-decoration-color: #008000\">'catalog'</span> and            <a href=\"file:///Users/gavinlou/.pyenv/versions/3.10.13/envs/kedro/lib/python3.10/site-packages/kedro/ipython/__init__.py\" target=\"_blank\"><span style=\"color: #7f7f7f; text-decoration-color: #7f7f7f\">__init__.py</span></a><span style=\"color: #7f7f7f; text-decoration-color: #7f7f7f\">:</span><a href=\"file:///Users/gavinlou/.pyenv/versions/3.10.13/envs/kedro/lib/python3.10/site-packages/kedro/ipython/__init__.py#135\" target=\"_blank\"><span style=\"color: #7f7f7f; text-decoration-color: #7f7f7f\">135</span></a>\n",
       "<span style=\"color: #7fbfbf; text-decoration-color: #7fbfbf\">                    </span>         <span style=\"color: #008000; text-decoration-color: #008000\">'pipelines'</span>                                                            <span style=\"color: #7f7f7f; text-decoration-color: #7f7f7f\">               </span>\n",
       "</pre>\n"
      ],
      "text/plain": [
       "\u001b[2;36m                   \u001b[0m\u001b[2;36m \u001b[0m\u001b[34mINFO    \u001b[0m Defined global variable \u001b[32m'context'\u001b[0m, \u001b[32m'session'\u001b[0m, \u001b[32m'catalog'\u001b[0m and            \u001b]8;id=377743;file:///Users/gavinlou/.pyenv/versions/3.10.13/envs/kedro/lib/python3.10/site-packages/kedro/ipython/__init__.py\u001b\\\u001b[2m__init__.py\u001b[0m\u001b]8;;\u001b\\\u001b[2m:\u001b[0m\u001b]8;id=927205;file:///Users/gavinlou/.pyenv/versions/3.10.13/envs/kedro/lib/python3.10/site-packages/kedro/ipython/__init__.py#135\u001b\\\u001b[2m135\u001b[0m\u001b]8;;\u001b\\\n",
       "\u001b[2;36m                    \u001b[0m         \u001b[32m'pipelines'\u001b[0m                                                            \u001b[2m               \u001b[0m\n"
      ]
     },
     "metadata": {},
     "output_type": "display_data"
    },
    {
     "data": {
      "text/html": [
       "<pre style=\"white-space:pre;overflow-x:auto;line-height:normal;font-family:Menlo,'DejaVu Sans Mono',consolas,'Courier New',monospace\"><span style=\"color: #7fbfbf; text-decoration-color: #7fbfbf\">[05/16/24 12:20:00] </span><span style=\"color: #000080; text-decoration-color: #000080\">INFO    </span> Registered line magic <span style=\"color: #008000; text-decoration-color: #008000\">'run_viz'</span>                                        <a href=\"file:///Users/gavinlou/.pyenv/versions/3.10.13/envs/kedro/lib/python3.10/site-packages/kedro/ipython/__init__.py\" target=\"_blank\"><span style=\"color: #7f7f7f; text-decoration-color: #7f7f7f\">__init__.py</span></a><span style=\"color: #7f7f7f; text-decoration-color: #7f7f7f\">:</span><a href=\"file:///Users/gavinlou/.pyenv/versions/3.10.13/envs/kedro/lib/python3.10/site-packages/kedro/ipython/__init__.py#141\" target=\"_blank\"><span style=\"color: #7f7f7f; text-decoration-color: #7f7f7f\">141</span></a>\n",
       "</pre>\n"
      ],
      "text/plain": [
       "\u001b[2;36m[05/16/24 12:20:00]\u001b[0m\u001b[2;36m \u001b[0m\u001b[34mINFO    \u001b[0m Registered line magic \u001b[32m'run_viz'\u001b[0m                                        \u001b]8;id=199812;file:///Users/gavinlou/.pyenv/versions/3.10.13/envs/kedro/lib/python3.10/site-packages/kedro/ipython/__init__.py\u001b\\\u001b[2m__init__.py\u001b[0m\u001b]8;;\u001b\\\u001b[2m:\u001b[0m\u001b]8;id=645573;file:///Users/gavinlou/.pyenv/versions/3.10.13/envs/kedro/lib/python3.10/site-packages/kedro/ipython/__init__.py#141\u001b\\\u001b[2m141\u001b[0m\u001b]8;;\u001b\\\n"
      ]
     },
     "metadata": {},
     "output_type": "display_data"
    },
    {
     "data": {
      "text/html": [
       "<pre style=\"white-space:pre;overflow-x:auto;line-height:normal;font-family:Menlo,'DejaVu Sans Mono',consolas,'Courier New',monospace\"><span style=\"color: #7fbfbf; text-decoration-color: #7fbfbf\">                    </span><span style=\"color: #000080; text-decoration-color: #000080\">INFO    </span> Loading data from <span style=\"color: #ff8700; text-decoration-color: #ff8700\">s3_conc_aligned_df</span> <span style=\"font-weight: bold\">(</span>ParquetDataset<span style=\"font-weight: bold\">)</span><span style=\"color: #808000; text-decoration-color: #808000\">...</span>           <a href=\"file:///Users/gavinlou/.pyenv/versions/3.10.13/envs/kedro/lib/python3.10/site-packages/kedro/io/data_catalog.py\" target=\"_blank\"><span style=\"color: #7f7f7f; text-decoration-color: #7f7f7f\">data_catalog.py</span></a><span style=\"color: #7f7f7f; text-decoration-color: #7f7f7f\">:</span><a href=\"file:///Users/gavinlou/.pyenv/versions/3.10.13/envs/kedro/lib/python3.10/site-packages/kedro/io/data_catalog.py#483\" target=\"_blank\"><span style=\"color: #7f7f7f; text-decoration-color: #7f7f7f\">483</span></a>\n",
       "</pre>\n"
      ],
      "text/plain": [
       "\u001b[2;36m                   \u001b[0m\u001b[2;36m \u001b[0m\u001b[34mINFO    \u001b[0m Loading data from \u001b[38;5;208ms3_conc_aligned_df\u001b[0m \u001b[1m(\u001b[0mParquetDataset\u001b[1m)\u001b[0m\u001b[33m...\u001b[0m           \u001b]8;id=929017;file:///Users/gavinlou/.pyenv/versions/3.10.13/envs/kedro/lib/python3.10/site-packages/kedro/io/data_catalog.py\u001b\\\u001b[2mdata_catalog.py\u001b[0m\u001b]8;;\u001b\\\u001b[2m:\u001b[0m\u001b]8;id=538202;file:///Users/gavinlou/.pyenv/versions/3.10.13/envs/kedro/lib/python3.10/site-packages/kedro/io/data_catalog.py#483\u001b\\\u001b[2m483\u001b[0m\u001b]8;;\u001b\\\n"
      ]
     },
     "metadata": {},
     "output_type": "display_data"
    }
   ],
   "source": [
    "%load_ext kedro.ipython\n",
    "df = catalog.load(\"s3_conc_aligned_df\")"
   ]
  },
  {
   "cell_type": "code",
   "execution_count": 2,
   "metadata": {},
   "outputs": [],
   "source": [
    "import pandas as pd\n",
    "import numpy as np\n",
    "from sklearn.model_selection import GroupShuffleSplit\n",
    "from sklearn.preprocessing import StandardScaler\n",
    "from torch.utils.data import TensorDataset, DataLoader\n",
    "import torch\n",
    "import torch.nn as nn\n",
    "import torch.optim as optim\n",
    "\n",
    "\n",
    "# Check for missing values and handle them if necessary\n",
    "df.fillna(df.mean(), inplace=True)\n",
    "\n",
    "# Define the features and target\n",
    "features = ['timestamp_bin', 'A1_Resistance']\n",
    "target = 'resistance_ratio'\n",
    "\n",
    "# Extract the feature matrix and target vector\n",
    "X = df[features]\n",
    "y = df[target]\n",
    "groups = df['exp_no']\n",
    "\n",
    "# Initialize the GroupShuffleSplit object for training/validation split\n",
    "gss = GroupShuffleSplit(n_splits=1, test_size=0.2, random_state=42)\n",
    "\n",
    "# Split into training and temporary (validation + testing) sets\n",
    "train_idx, temp_idx = next(gss.split(X, y, groups=groups))\n",
    "\n",
    "# Create DataFrames for training and temporary sets\n",
    "train_df = df.iloc[train_idx]\n",
    "temp_df = df.iloc[temp_idx]\n",
    "\n",
    "# Split the temporary set into validation and testing sets\n",
    "gss_temp = GroupShuffleSplit(n_splits=1, test_size=0.5, random_state=42)\n",
    "val_idx, test_idx = next(gss_temp.split(temp_df[features], temp_df[target], groups=temp_df['exp_no']))\n",
    "\n",
    "# Create DataFrames for validation and testing sets\n",
    "val_df = temp_df.iloc[val_idx]\n",
    "test_df = temp_df.iloc[test_idx]\n",
    "\n",
    "# Extract features and targets for each set\n",
    "X_train = train_df[features]\n",
    "y_train = train_df[target]\n",
    "X_val = val_df[features]\n",
    "y_val = val_df[target]\n",
    "X_test = test_df[features]\n",
    "y_test = test_df[target]\n",
    "\n",
    "# Normalize the features\n",
    "scaler = StandardScaler()\n",
    "X_train = scaler.fit_transform(X_train)\n",
    "X_val = scaler.transform(X_val)\n",
    "X_test = scaler.transform(X_test)\n",
    "\n",
    "# Convert to PyTorch tensors\n",
    "X_train_tensor = torch.tensor(X_train, dtype=torch.float32)\n",
    "y_train_tensor = torch.tensor(y_train.values, dtype=torch.float32)\n",
    "X_val_tensor = torch.tensor(X_val, dtype=torch.float32)\n",
    "y_val_tensor = torch.tensor(y_val.values, dtype=torch.float32)\n",
    "X_test_tensor = torch.tensor(X_test, dtype=torch.float32)\n",
    "y_test_tensor = torch.tensor(y_test.values, dtype=torch.float32)\n",
    "\n",
    "# Batch size definition\n",
    "batch_size = 128\n",
    "\n",
    "# Create Tensor datasets\n",
    "train_dataset = TensorDataset(X_train_tensor, y_train_tensor.view(-1, 1))\n",
    "val_dataset = TensorDataset(X_val_tensor, y_val_tensor.view(-1, 1))\n",
    "test_dataset = TensorDataset(X_test_tensor, y_test_tensor.view(-1, 1))\n",
    "\n",
    "# Create DataLoaders\n",
    "train_loader = DataLoader(dataset=train_dataset, batch_size=batch_size, shuffle=True)\n",
    "val_loader = DataLoader(dataset=val_dataset, batch_size=batch_size, shuffle=False)\n",
    "test_loader = DataLoader(dataset=test_dataset, batch_size=batch_size, shuffle=False)\n"
   ]
  },
  {
   "cell_type": "code",
   "execution_count": 3,
   "metadata": {},
   "outputs": [
    {
     "name": "stdout",
     "output_type": "stream",
     "text": [
      "Inputs shape: torch.Size([128, 2]), Targets shape: torch.Size([128, 1])\n",
      "Input type: <class 'torch.Tensor'>, Target type: <class 'torch.Tensor'>\n"
     ]
    }
   ],
   "source": [
    "for inputs, targets in train_loader:\n",
    "    print(f\"Inputs shape: {inputs.shape}, Targets shape: {targets.shape}\")\n",
    "    print(f\"Input type: {type(inputs)}, Target type: {type(targets)}\")\n",
    "    break  # Just checking the first batch\n",
    "\n"
   ]
  },
  {
   "cell_type": "code",
   "execution_count": 4,
   "metadata": {},
   "outputs": [
    {
     "name": "stdout",
     "output_type": "stream",
     "text": [
      "Epoch 1, Loss: 0.5511482954025269\n",
      "Epoch 2, Loss: 0.49252960085868835\n",
      "Epoch 3, Loss: 0.5453920364379883\n",
      "Epoch 4, Loss: 0.5465580821037292\n",
      "Epoch 5, Loss: 0.7082335352897644\n",
      "Epoch 6, Loss: 0.6452561616897583\n",
      "Epoch 7, Loss: 0.5620478987693787\n",
      "Epoch 8, Loss: 0.5354790687561035\n",
      "Epoch 9, Loss: 0.4421108663082123\n",
      "Epoch 10, Loss: 0.6270326375961304\n",
      "Epoch 11, Loss: 0.5392063856124878\n",
      "Epoch 12, Loss: 0.5507766604423523\n",
      "Epoch 13, Loss: 0.6835042834281921\n",
      "Epoch 14, Loss: 0.6983036994934082\n",
      "Epoch 15, Loss: 0.4015863835811615\n",
      "Epoch 16, Loss: 0.5333114862442017\n",
      "Epoch 17, Loss: 0.6114388704299927\n",
      "Epoch 18, Loss: 0.3037523627281189\n",
      "Epoch 19, Loss: 0.5433733463287354\n",
      "Epoch 20, Loss: 0.5806137323379517\n"
     ]
    }
   ],
   "source": [
    "def kl_divergence(rho, rho_hat):\n",
    "    # Ensure sigmoid is applied correctly and mean does not reduce it to scalar\n",
    "    rho_hat = torch.sigmoid(rho_hat)\n",
    "    if rho_hat.dim() > 0:\n",
    "        rho_hat = torch.mean(rho_hat, dim=0)\n",
    "    else:\n",
    "        rho_hat = rho_hat.unsqueeze(0)  # Adds a dimension if it's a scalar\n",
    "\n",
    "    rho = torch.tensor([rho] * len(rho_hat), device=rho_hat.device)\n",
    "    return torch.sum(rho * torch.log(rho / rho_hat) + (1 - rho) * torch.log((1 - rho) / (1 - rho_hat)))\n",
    "\n",
    "class Autoencoder(nn.Module):\n",
    "    def __init__(self, input_size, hidden_size, latent_size):\n",
    "        super(Autoencoder, self).__init__()\n",
    "        # Encoder\n",
    "        self.encoder = nn.Sequential(\n",
    "            nn.Linear(input_size, hidden_size),\n",
    "            nn.ReLU(),\n",
    "            nn.Linear(hidden_size, latent_size)\n",
    "        )\n",
    "        \n",
    "        # Decoder\n",
    "        self.decoder = nn.Sequential(\n",
    "            nn.Linear(latent_size, hidden_size),\n",
    "            nn.ReLU(),\n",
    "            nn.Linear(hidden_size, input_size),\n",
    "            nn.Sigmoid()\n",
    "        )\n",
    "\n",
    "    def forward(self, x):\n",
    "        # print(f\"Fowards input type {type(x)}\")\n",
    "        # print(f\"Fowards input shape {x.shape}\")\n",
    "        z = self.encoder(x)\n",
    "        x_reconstructed = self.decoder(z)\n",
    "        return x_reconstructed, z\n",
    "\n",
    "input_size = 2  # Example for MNIST dataset, change as per your dataset\n",
    "hidden_size = 128  # Size of hidden layers\n",
    "latent_size = 128   # Size of the latent space representation\n",
    "\n",
    "model = Autoencoder(input_size, hidden_size, latent_size)\n",
    "\n",
    "criterion = nn.MSELoss()\n",
    "optimizer = optim.Adam(model.parameters(), lr=1e-3)\n",
    "\n",
    "def train(model, data_loader, epochs, rho, beta):\n",
    "    model.train()\n",
    "    for epoch in range(epochs):\n",
    "        total_loss = 0\n",
    "        for inputs, _ in data_loader:  # Unpack the batch here\n",
    "            optimizer.zero_grad()\n",
    "            # print(f\"Batch input type: {type(inputs)}\")  # Check the type of inputs\n",
    "            # print(f\"Batch input shape: {inputs.shape}\")\n",
    "            outputs, latent_outputs = model(inputs)\n",
    "            # print(f\"Outputs shape: {outputs.shape}, Latent outputs shape: {latent_outputs.shape}\")\n",
    "            loss = criterion(outputs, inputs)\n",
    "            kl_loss = kl_divergence(rho, latent_outputs)\n",
    "            total_loss = loss + beta * kl_loss\n",
    "            total_loss.backward()\n",
    "            optimizer.step()\n",
    "        print(f'Epoch {epoch+1}, Loss: {total_loss.item()}')\n",
    "\n",
    "# Parameters\n",
    "rho = 0.05  # Target sparsity parameter\n",
    "beta = 0.01  # Weight of the sparsity penalty term\n",
    "\n",
    "train(model, train_loader, epochs=20, rho=rho, beta=beta)"
   ]
  },
  {
   "cell_type": "markdown",
   "metadata": {},
   "source": [
    "# Learning Rate Scheduler"
   ]
  },
  {
   "cell_type": "code",
   "execution_count": 5,
   "metadata": {},
   "outputs": [
    {
     "name": "stdout",
     "output_type": "stream",
     "text": [
      "Epoch 1, Loss: 0.49222856760025024\n",
      "Epoch 2, Loss: 0.6040196418762207\n",
      "Epoch 3, Loss: 0.5772991180419922\n",
      "Epoch 4, Loss: 0.663725733757019\n",
      "Epoch 5, Loss: 0.5692221522331238\n",
      "Epoch 6, Loss: 0.6473165154457092\n",
      "Epoch 7, Loss: 0.5904619097709656\n",
      "Epoch 8, Loss: 0.6689891815185547\n",
      "Epoch 9, Loss: 0.48528236150741577\n",
      "Epoch 10, Loss: 0.5426681041717529\n",
      "Epoch 11, Loss: 0.4905341565608978\n",
      "Epoch 12, Loss: 0.3640066385269165\n",
      "Epoch 13, Loss: 0.46559396386146545\n",
      "Epoch 14, Loss: 0.5614495277404785\n",
      "Epoch 15, Loss: 0.5521577000617981\n",
      "Epoch 16, Loss: 0.6440499424934387\n",
      "Epoch 17, Loss: 0.4033474028110504\n",
      "Epoch 18, Loss: 0.4391646385192871\n",
      "Epoch 19, Loss: 0.39846071600914\n",
      "Epoch 20, Loss: 0.4154316782951355\n"
     ]
    }
   ],
   "source": [
    "def lr_train(model, data_loader, epochs, rho, beta):\n",
    "    model.train()\n",
    "    scheduler = torch.optim.lr_scheduler.StepLR(optimizer, step_size=10, gamma=0.1)  # Reduce LR by a factor of 0.1 every 10 epochs\n",
    "    for epoch in range(epochs):\n",
    "        total_loss = 0\n",
    "        for data, _ in data_loader:  # Correctly unpack the data (inputs) and targets\n",
    "            optimizer.zero_grad()\n",
    "            outputs, latent_outputs = model(data)  # Pass only the data (inputs) to the model\n",
    "            loss = criterion(outputs, data)  # Compute loss using data (inputs)\n",
    "            kl_loss = kl_divergence(rho, latent_outputs)\n",
    "            total_loss = loss + beta * kl_loss\n",
    "            total_loss.backward()\n",
    "            optimizer.step()\n",
    "        scheduler.step()  # Step the scheduler at the end of each epoch\n",
    "        print(f'Epoch {epoch+1}, Loss: {total_loss.item()}')\n",
    "\n",
    "# Parameters\n",
    "lr_rho = 0.05  # Target sparsity parameter\n",
    "lr_beta = 0.01  # Weight of the sparsity penalty term\n",
    "\n",
    "lr_train(model, train_loader, epochs=20, rho=lr_rho, beta=lr_beta)\n"
   ]
  },
  {
   "cell_type": "markdown",
   "metadata": {},
   "source": [
    "# K-mean Cluster"
   ]
  },
  {
   "cell_type": "code",
   "execution_count": 13,
   "metadata": {},
   "outputs": [],
   "source": [
    "import matplotlib.pyplot as plt\n",
    "import seaborn as sns\n",
    "from sklearn.decomposition import PCA\n",
    "from sklearn.cluster import KMeans\n",
    "\n",
    "scaler = StandardScaler()\n",
    "df_scaled = scaler.fit_transform(df)\n",
    "# Apply K-Means clustering\n",
    "k = 3  # Number of clusters\n",
    "kmeans = KMeans(n_clusters=k, random_state=42)\n",
    "kmeans.fit(df_scaled)\n",
    "df['cluster'] = kmeans.labels_\n",
    "\n",
    "distances = kmeans.transform(df_scaled)\n",
    "distance_features = pd.DataFrame(distances, columns=[f'distance_to_centroid_{i}' for i in range(k)])\n",
    "df_cluster = pd.concat([df, distance_features], axis=1)\n",
    "\n",
    "# write the df_cluster to parquet file\n",
    "df_cluster.to_parquet(\"global_cluster_df.pq\")"
   ]
  },
  {
   "cell_type": "code",
   "execution_count": 14,
   "metadata": {},
   "outputs": [
    {
     "data": {
      "text/html": [
       "<pre style=\"white-space:pre;overflow-x:auto;line-height:normal;font-family:Menlo,'DejaVu Sans Mono',consolas,'Courier New',monospace\"></pre>\n"
      ],
      "text/plain": []
     },
     "metadata": {},
     "output_type": "display_data"
    },
    {
     "data": {
      "text/html": [
       "<div>\n",
       "<style scoped>\n",
       "    .dataframe tbody tr th:only-of-type {\n",
       "        vertical-align: middle;\n",
       "    }\n",
       "\n",
       "    .dataframe tbody tr th {\n",
       "        vertical-align: top;\n",
       "    }\n",
       "\n",
       "    .dataframe thead th {\n",
       "        text-align: right;\n",
       "    }\n",
       "</style>\n",
       "<table border=\"1\" class=\"dataframe\">\n",
       "  <thead>\n",
       "    <tr style=\"text-align: right;\">\n",
       "      <th></th>\n",
       "      <th>exp_no</th>\n",
       "      <th>timestamp_bin</th>\n",
       "      <th>A1_Resistance</th>\n",
       "      <th>A1_Resistance_diff</th>\n",
       "      <th>A1_Resistance_norm</th>\n",
       "      <th>A1_Sensor</th>\n",
       "      <th>A1_Sensor_diff</th>\n",
       "      <th>A1_Sensor_norm</th>\n",
       "      <th>SHT40_Humidity</th>\n",
       "      <th>SHT40_temp</th>\n",
       "      <th>index</th>\n",
       "      <th>resistance_ratio</th>\n",
       "      <th>ace_conc</th>\n",
       "      <th>expo_time</th>\n",
       "      <th>cluster</th>\n",
       "      <th>distance_to_centroid_0</th>\n",
       "      <th>distance_to_centroid_1</th>\n",
       "      <th>distance_to_centroid_2</th>\n",
       "    </tr>\n",
       "  </thead>\n",
       "  <tbody>\n",
       "    <tr>\n",
       "      <th>0</th>\n",
       "      <td>0</td>\n",
       "      <td>0.0</td>\n",
       "      <td>720650.750</td>\n",
       "      <td>0.000</td>\n",
       "      <td>1.000000</td>\n",
       "      <td>4518.0</td>\n",
       "      <td>0.0</td>\n",
       "      <td>1.000000</td>\n",
       "      <td>42.835</td>\n",
       "      <td>29.430</td>\n",
       "      <td>4481.5</td>\n",
       "      <td>1.768473</td>\n",
       "      <td>3.033000e-07</td>\n",
       "      <td>3.0</td>\n",
       "      <td>2</td>\n",
       "      <td>6.547601</td>\n",
       "      <td>5.822474</td>\n",
       "      <td>3.891654</td>\n",
       "    </tr>\n",
       "    <tr>\n",
       "      <th>1</th>\n",
       "      <td>0</td>\n",
       "      <td>1.0</td>\n",
       "      <td>720361.875</td>\n",
       "      <td>0.000</td>\n",
       "      <td>0.999599</td>\n",
       "      <td>4519.5</td>\n",
       "      <td>0.0</td>\n",
       "      <td>1.000332</td>\n",
       "      <td>42.840</td>\n",
       "      <td>29.435</td>\n",
       "      <td>4483.5</td>\n",
       "      <td>1.768473</td>\n",
       "      <td>3.033000e-07</td>\n",
       "      <td>3.0</td>\n",
       "      <td>2</td>\n",
       "      <td>6.492225</td>\n",
       "      <td>5.761669</td>\n",
       "      <td>3.824894</td>\n",
       "    </tr>\n",
       "    <tr>\n",
       "      <th>2</th>\n",
       "      <td>0</td>\n",
       "      <td>2.0</td>\n",
       "      <td>719688.470</td>\n",
       "      <td>-673.405</td>\n",
       "      <td>0.998665</td>\n",
       "      <td>4523.0</td>\n",
       "      <td>3.5</td>\n",
       "      <td>1.001107</td>\n",
       "      <td>42.845</td>\n",
       "      <td>29.445</td>\n",
       "      <td>4485.5</td>\n",
       "      <td>1.768473</td>\n",
       "      <td>3.033000e-07</td>\n",
       "      <td>3.0</td>\n",
       "      <td>2</td>\n",
       "      <td>6.411652</td>\n",
       "      <td>5.589371</td>\n",
       "      <td>3.723517</td>\n",
       "    </tr>\n",
       "    <tr>\n",
       "      <th>3</th>\n",
       "      <td>0</td>\n",
       "      <td>3.0</td>\n",
       "      <td>719015.940</td>\n",
       "      <td>-1634.810</td>\n",
       "      <td>0.997731</td>\n",
       "      <td>4526.5</td>\n",
       "      <td>8.5</td>\n",
       "      <td>1.001881</td>\n",
       "      <td>42.830</td>\n",
       "      <td>29.435</td>\n",
       "      <td>4487.5</td>\n",
       "      <td>1.768473</td>\n",
       "      <td>3.033000e-07</td>\n",
       "      <td>3.0</td>\n",
       "      <td>2</td>\n",
       "      <td>6.584985</td>\n",
       "      <td>5.667950</td>\n",
       "      <td>3.932468</td>\n",
       "    </tr>\n",
       "    <tr>\n",
       "      <th>4</th>\n",
       "      <td>0</td>\n",
       "      <td>4.0</td>\n",
       "      <td>718727.905</td>\n",
       "      <td>-1345.095</td>\n",
       "      <td>0.997332</td>\n",
       "      <td>4528.0</td>\n",
       "      <td>7.0</td>\n",
       "      <td>1.002213</td>\n",
       "      <td>42.845</td>\n",
       "      <td>29.440</td>\n",
       "      <td>4489.5</td>\n",
       "      <td>1.768473</td>\n",
       "      <td>3.033000e-07</td>\n",
       "      <td>3.0</td>\n",
       "      <td>2</td>\n",
       "      <td>6.509793</td>\n",
       "      <td>5.615991</td>\n",
       "      <td>3.837188</td>\n",
       "    </tr>\n",
       "  </tbody>\n",
       "</table>\n",
       "</div>"
      ],
      "text/plain": [
       "\n",
       "   exp_no  timestamp_bin  A1_Resistance  A1_Resistance_diff  \\\n",
       "\u001b[1;36m0\u001b[0m       \u001b[1;36m0\u001b[0m            \u001b[1;36m0.0\u001b[0m     \u001b[1;36m720650.750\u001b[0m               \u001b[1;36m0.000\u001b[0m   \n",
       "\u001b[1;36m1\u001b[0m       \u001b[1;36m0\u001b[0m            \u001b[1;36m1.0\u001b[0m     \u001b[1;36m720361.875\u001b[0m               \u001b[1;36m0.000\u001b[0m   \n",
       "\u001b[1;36m2\u001b[0m       \u001b[1;36m0\u001b[0m            \u001b[1;36m2.0\u001b[0m     \u001b[1;36m719688.470\u001b[0m            \u001b[1;36m-673.405\u001b[0m   \n",
       "\u001b[1;36m3\u001b[0m       \u001b[1;36m0\u001b[0m            \u001b[1;36m3.0\u001b[0m     \u001b[1;36m719015.940\u001b[0m           \u001b[1;36m-1634.810\u001b[0m   \n",
       "\u001b[1;36m4\u001b[0m       \u001b[1;36m0\u001b[0m            \u001b[1;36m4.0\u001b[0m     \u001b[1;36m718727.905\u001b[0m           \u001b[1;36m-1345.095\u001b[0m   \n",
       "\n",
       "   A1_Resistance_norm  A1_Sensor  A1_Sensor_diff  A1_Sensor_norm  \\\n",
       "\u001b[1;36m0\u001b[0m            \u001b[1;36m1.000000\u001b[0m     \u001b[1;36m4518.0\u001b[0m             \u001b[1;36m0.0\u001b[0m        \u001b[1;36m1.000000\u001b[0m   \n",
       "\u001b[1;36m1\u001b[0m            \u001b[1;36m0.999599\u001b[0m     \u001b[1;36m4519.5\u001b[0m             \u001b[1;36m0.0\u001b[0m        \u001b[1;36m1.000332\u001b[0m   \n",
       "\u001b[1;36m2\u001b[0m            \u001b[1;36m0.998665\u001b[0m     \u001b[1;36m4523.0\u001b[0m             \u001b[1;36m3.5\u001b[0m        \u001b[1;36m1.001107\u001b[0m   \n",
       "\u001b[1;36m3\u001b[0m            \u001b[1;36m0.997731\u001b[0m     \u001b[1;36m4526.5\u001b[0m             \u001b[1;36m8.5\u001b[0m        \u001b[1;36m1.001881\u001b[0m   \n",
       "\u001b[1;36m4\u001b[0m            \u001b[1;36m0.997332\u001b[0m     \u001b[1;36m4528.0\u001b[0m             \u001b[1;36m7.0\u001b[0m        \u001b[1;36m1.002213\u001b[0m   \n",
       "\n",
       "   SHT40_Humidity  SHT40_temp   index  resistance_ratio      ace_conc  \\\n",
       "\u001b[1;36m0\u001b[0m          \u001b[1;36m42.835\u001b[0m      \u001b[1;36m29.430\u001b[0m  \u001b[1;36m4481.5\u001b[0m          \u001b[1;36m1.768473\u001b[0m  \u001b[1;36m3.033000e-07\u001b[0m   \n",
       "\u001b[1;36m1\u001b[0m          \u001b[1;36m42.840\u001b[0m      \u001b[1;36m29.435\u001b[0m  \u001b[1;36m4483.5\u001b[0m          \u001b[1;36m1.768473\u001b[0m  \u001b[1;36m3.033000e-07\u001b[0m   \n",
       "\u001b[1;36m2\u001b[0m          \u001b[1;36m42.845\u001b[0m      \u001b[1;36m29.445\u001b[0m  \u001b[1;36m4485.5\u001b[0m          \u001b[1;36m1.768473\u001b[0m  \u001b[1;36m3.033000e-07\u001b[0m   \n",
       "\u001b[1;36m3\u001b[0m          \u001b[1;36m42.830\u001b[0m      \u001b[1;36m29.435\u001b[0m  \u001b[1;36m4487.5\u001b[0m          \u001b[1;36m1.768473\u001b[0m  \u001b[1;36m3.033000e-07\u001b[0m   \n",
       "\u001b[1;36m4\u001b[0m          \u001b[1;36m42.845\u001b[0m      \u001b[1;36m29.440\u001b[0m  \u001b[1;36m4489.5\u001b[0m          \u001b[1;36m1.768473\u001b[0m  \u001b[1;36m3.033000e-07\u001b[0m   \n",
       "\n",
       "   expo_time  cluster  distance_to_centroid_0  distance_to_centroid_1  \\\n",
       "\u001b[1;36m0\u001b[0m        \u001b[1;36m3.0\u001b[0m        \u001b[1;36m2\u001b[0m                \u001b[1;36m6.547601\u001b[0m                \u001b[1;36m5.822474\u001b[0m   \n",
       "\u001b[1;36m1\u001b[0m        \u001b[1;36m3.0\u001b[0m        \u001b[1;36m2\u001b[0m                \u001b[1;36m6.492225\u001b[0m                \u001b[1;36m5.761669\u001b[0m   \n",
       "\u001b[1;36m2\u001b[0m        \u001b[1;36m3.0\u001b[0m        \u001b[1;36m2\u001b[0m                \u001b[1;36m6.411652\u001b[0m                \u001b[1;36m5.589371\u001b[0m   \n",
       "\u001b[1;36m3\u001b[0m        \u001b[1;36m3.0\u001b[0m        \u001b[1;36m2\u001b[0m                \u001b[1;36m6.584985\u001b[0m                \u001b[1;36m5.667950\u001b[0m   \n",
       "\u001b[1;36m4\u001b[0m        \u001b[1;36m3.0\u001b[0m        \u001b[1;36m2\u001b[0m                \u001b[1;36m6.509793\u001b[0m                \u001b[1;36m5.615991\u001b[0m   \n",
       "\n",
       "   distance_to_centroid_2  \n",
       "\u001b[1;36m0\u001b[0m                \u001b[1;36m3.891654\u001b[0m  \n",
       "\u001b[1;36m1\u001b[0m                \u001b[1;36m3.824894\u001b[0m  \n",
       "\u001b[1;36m2\u001b[0m                \u001b[1;36m3.723517\u001b[0m  \n",
       "\u001b[1;36m3\u001b[0m                \u001b[1;36m3.932468\u001b[0m  \n",
       "\u001b[1;36m4\u001b[0m                \u001b[1;36m3.837188\u001b[0m  "
      ]
     },
     "execution_count": 14,
     "metadata": {},
     "output_type": "execute_result"
    }
   ],
   "source": [
    "df_cluster.head()"
   ]
  },
  {
   "cell_type": "markdown",
   "metadata": {},
   "source": [
    "# Grouping K-Cluster to look at experiments individually"
   ]
  },
  {
   "cell_type": "code",
   "execution_count": null,
   "metadata": {},
   "outputs": [],
   "source": []
  },
  {
   "cell_type": "markdown",
   "metadata": {},
   "source": [
    "# Hybrid Apporach in terms of grouping"
   ]
  },
  {
   "cell_type": "code",
   "execution_count": 7,
   "metadata": {},
   "outputs": [
    {
     "name": "stdout",
     "output_type": "stream",
     "text": [
      "         0         1         2         3         4         5         6   \\\n",
      "0 -0.483200 -1.268408  0.228468 -1.268408  1.259057 -0.253764  1.259057   \n",
      "1  0.907404  0.604490  0.252571  0.604490 -0.616693 -0.167297 -0.616693   \n",
      "2 -1.390735  0.643997 -0.989341  0.643997 -0.598995  0.825273 -0.598995   \n",
      "3 -0.553547 -1.362613  0.130734 -1.362613  1.382080 -0.145326  1.382080   \n",
      "4  0.848906  0.524676  0.279642  0.524676 -0.562503 -0.196051 -0.562503   \n",
      "\n",
      "         7         8         9             10            11   12  \n",
      "0 -0.141226  0.791221 -0.483200 -4.440892e-16 -5.293956e-23  0.0  \n",
      "1 -0.411942 -0.106628  0.907404 -4.440892e-16 -5.293956e-23  0.0  \n",
      "2  1.229659 -1.055175 -1.390735 -4.440892e-16 -5.293956e-23  0.0  \n",
      "3 -0.255068 -0.467714 -0.553547 -2.220446e-16 -5.293956e-23  0.0  \n",
      "4 -0.359794  0.682020  0.848906 -2.220446e-16 -5.293956e-23  0.0  \n"
     ]
    }
   ],
   "source": [
    "from sklearn.cluster import KMeans\n",
    "\n",
    "# Assuming df is your DataFrame\n",
    "grouped = df.groupby('exp_no')\n",
    "\n",
    "# Initialize lists to store centroids\n",
    "centroids = []\n",
    "\n",
    "for name, group in grouped:\n",
    "    # Drop the 'exp_no' column and scale the features\n",
    "    features = group.drop(columns=['exp_no'])\n",
    "    scaler = StandardScaler()\n",
    "    scaled_features = scaler.fit_transform(features)\n",
    "\n",
    "    # Apply K-Means clustering\n",
    "    kmeans = KMeans(n_clusters=3, random_state=42)  # Adjust the number of clusters as needed\n",
    "    kmeans.fit(scaled_features)\n",
    "    \n",
    "    # Store the centroids\n",
    "    centroids.append(kmeans.cluster_centers_)\n",
    "\n",
    "# Convert centroids to a DataFrame for analysis\n",
    "centroids_df = pd.DataFrame(np.vstack(centroids))\n",
    "\n",
    "print(centroids_df.head())\n"
   ]
  },
  {
   "cell_type": "code",
   "execution_count": 8,
   "metadata": {},
   "outputs": [
    {
     "name": "stdout",
     "output_type": "stream",
     "text": [
      "        exp_no  timestamp_bin  A1_Resistance  A1_Resistance_diff  \\\n",
      "0            0            0.0     720650.750               0.000   \n",
      "1            0            1.0     720361.875               0.000   \n",
      "2            0            2.0     719688.470            -673.405   \n",
      "3            0            3.0     719015.940           -1634.810   \n",
      "4            0            4.0     718727.905           -1345.095   \n",
      "...        ...            ...            ...                 ...   \n",
      "469990     272         1859.0    1786303.310           -2385.810   \n",
      "469991     272         1860.0    1785826.870           -1429.880   \n",
      "469992     272         1861.0    1786779.750            -477.000   \n",
      "469993     272         1862.0    1787733.750            1906.880   \n",
      "469994     272         1863.0    1790124.495            3821.185   \n",
      "\n",
      "        A1_Resistance_norm  A1_Sensor  A1_Sensor_diff  A1_Sensor_norm  \\\n",
      "0                 1.000000     4518.0             0.0        1.000000   \n",
      "1                 0.999599     4519.5             0.0        1.000332   \n",
      "2                 0.998665     4523.0             3.5        1.001107   \n",
      "3                 0.997731     4526.5             8.5        1.001881   \n",
      "4                 0.997332     4528.0             7.0        1.002213   \n",
      "...                    ...        ...             ...             ...   \n",
      "469990            0.998666     2031.5             2.5        1.001232   \n",
      "469991            0.998400     2032.0             1.5        1.001479   \n",
      "469992            0.998933     2031.0             0.5        1.000986   \n",
      "469993            0.999466     2030.0            -2.0        1.000493   \n",
      "469994            1.000802     2027.5            -4.0        0.999261   \n",
      "\n",
      "        SHT40_Humidity  SHT40_temp     index  resistance_ratio      ace_conc  \\\n",
      "0               42.835      29.430    4481.5          1.768473  3.033000e-07   \n",
      "1               42.840      29.435    4483.5          1.768473  3.033000e-07   \n",
      "2               42.845      29.445    4485.5          1.768473  3.033000e-07   \n",
      "3               42.830      29.435    4487.5          1.768473  3.033000e-07   \n",
      "4               42.845      29.440    4489.5          1.768473  3.033000e-07   \n",
      "...                ...         ...       ...               ...           ...   \n",
      "469990          41.755      29.565  998287.5          0.424855  3.033000e-07   \n",
      "469991          41.740      29.575  998289.5          0.424855  3.033000e-07   \n",
      "469992          41.795      29.565  998291.5          0.424855  3.033000e-07   \n",
      "469993          41.785      29.565  998293.5          0.424855  3.033000e-07   \n",
      "469994          41.790      29.570  998295.5          0.424855  3.033000e-07   \n",
      "\n",
      "        expo_time  cluster  \n",
      "0             3.0        2  \n",
      "1             3.0        2  \n",
      "2             3.0        2  \n",
      "3             3.0        2  \n",
      "4             3.0        2  \n",
      "...           ...      ...  \n",
      "469990        3.0        1  \n",
      "469991        3.0        1  \n",
      "469992        3.0        1  \n",
      "469993        3.0        1  \n",
      "469994        3.0        1  \n",
      "\n",
      "[469995 rows x 15 columns]\n"
     ]
    }
   ],
   "source": [
    "# Initialize lists to store results\n",
    "cluster_labels = []\n",
    "centroids = []\n",
    "\n",
    "# Group by 'exp_no'\n",
    "grouped = df.groupby('exp_no')\n",
    "\n",
    "for name, group in grouped:\n",
    "    # Drop the 'exp_no' column and scale the features\n",
    "    features = group.drop(columns=['exp_no'])\n",
    "    scaler = StandardScaler()\n",
    "    scaled_features = scaler.fit_transform(features)\n",
    "\n",
    "    # Apply K-Means clustering\n",
    "    kmeans = KMeans(n_clusters=3, random_state=42)  # Adjust the number of clusters as needed\n",
    "    labels = kmeans.fit_predict(scaled_features)\n",
    "    \n",
    "    # Add the cluster labels to the group\n",
    "    group['cluster'] = labels\n",
    "    cluster_labels.append(group)\n",
    "    \n",
    "    # Store the centroids\n",
    "    centroids.append(kmeans.cluster_centers_)\n",
    "\n",
    "# Concatenate the results into a single DataFrame\n",
    "df_with_clusters = pd.concat(cluster_labels)\n",
    "\n",
    "# Optionally, convert centroids to a DataFrame for further analysis\n",
    "centroids_df = pd.DataFrame(np.vstack(centroids))\n",
    "\n",
    "# Display the DataFrame with cluster labels\n",
    "print(df_with_clusters)"
   ]
  },
  {
   "cell_type": "code",
   "execution_count": 11,
   "metadata": {},
   "outputs": [
    {
     "data": {
      "text/html": [
       "<pre style=\"white-space:pre;overflow-x:auto;line-height:normal;font-family:Menlo,'DejaVu Sans Mono',consolas,'Courier New',monospace\"></pre>\n"
      ],
      "text/plain": []
     },
     "metadata": {},
     "output_type": "display_data"
    },
    {
     "data": {
      "text/html": [
       "<div>\n",
       "<style scoped>\n",
       "    .dataframe tbody tr th:only-of-type {\n",
       "        vertical-align: middle;\n",
       "    }\n",
       "\n",
       "    .dataframe tbody tr th {\n",
       "        vertical-align: top;\n",
       "    }\n",
       "\n",
       "    .dataframe thead th {\n",
       "        text-align: right;\n",
       "    }\n",
       "</style>\n",
       "<table border=\"1\" class=\"dataframe\">\n",
       "  <thead>\n",
       "    <tr style=\"text-align: right;\">\n",
       "      <th></th>\n",
       "      <th>exp_no</th>\n",
       "      <th>timestamp_bin</th>\n",
       "      <th>A1_Resistance</th>\n",
       "      <th>A1_Resistance_diff</th>\n",
       "      <th>A1_Resistance_norm</th>\n",
       "      <th>A1_Sensor</th>\n",
       "      <th>A1_Sensor_diff</th>\n",
       "      <th>A1_Sensor_norm</th>\n",
       "      <th>SHT40_Humidity</th>\n",
       "      <th>SHT40_temp</th>\n",
       "      <th>index</th>\n",
       "      <th>resistance_ratio</th>\n",
       "      <th>ace_conc</th>\n",
       "      <th>expo_time</th>\n",
       "      <th>cluster</th>\n",
       "    </tr>\n",
       "  </thead>\n",
       "  <tbody>\n",
       "    <tr>\n",
       "      <th>0</th>\n",
       "      <td>0</td>\n",
       "      <td>0.0</td>\n",
       "      <td>720650.750</td>\n",
       "      <td>0.000</td>\n",
       "      <td>1.000000</td>\n",
       "      <td>4518.0</td>\n",
       "      <td>0.0</td>\n",
       "      <td>1.000000</td>\n",
       "      <td>42.835</td>\n",
       "      <td>29.430</td>\n",
       "      <td>4481.5</td>\n",
       "      <td>1.768473</td>\n",
       "      <td>3.033000e-07</td>\n",
       "      <td>3.0</td>\n",
       "      <td>2</td>\n",
       "    </tr>\n",
       "    <tr>\n",
       "      <th>1</th>\n",
       "      <td>0</td>\n",
       "      <td>1.0</td>\n",
       "      <td>720361.875</td>\n",
       "      <td>0.000</td>\n",
       "      <td>0.999599</td>\n",
       "      <td>4519.5</td>\n",
       "      <td>0.0</td>\n",
       "      <td>1.000332</td>\n",
       "      <td>42.840</td>\n",
       "      <td>29.435</td>\n",
       "      <td>4483.5</td>\n",
       "      <td>1.768473</td>\n",
       "      <td>3.033000e-07</td>\n",
       "      <td>3.0</td>\n",
       "      <td>2</td>\n",
       "    </tr>\n",
       "    <tr>\n",
       "      <th>2</th>\n",
       "      <td>0</td>\n",
       "      <td>2.0</td>\n",
       "      <td>719688.470</td>\n",
       "      <td>-673.405</td>\n",
       "      <td>0.998665</td>\n",
       "      <td>4523.0</td>\n",
       "      <td>3.5</td>\n",
       "      <td>1.001107</td>\n",
       "      <td>42.845</td>\n",
       "      <td>29.445</td>\n",
       "      <td>4485.5</td>\n",
       "      <td>1.768473</td>\n",
       "      <td>3.033000e-07</td>\n",
       "      <td>3.0</td>\n",
       "      <td>2</td>\n",
       "    </tr>\n",
       "    <tr>\n",
       "      <th>3</th>\n",
       "      <td>0</td>\n",
       "      <td>3.0</td>\n",
       "      <td>719015.940</td>\n",
       "      <td>-1634.810</td>\n",
       "      <td>0.997731</td>\n",
       "      <td>4526.5</td>\n",
       "      <td>8.5</td>\n",
       "      <td>1.001881</td>\n",
       "      <td>42.830</td>\n",
       "      <td>29.435</td>\n",
       "      <td>4487.5</td>\n",
       "      <td>1.768473</td>\n",
       "      <td>3.033000e-07</td>\n",
       "      <td>3.0</td>\n",
       "      <td>2</td>\n",
       "    </tr>\n",
       "    <tr>\n",
       "      <th>4</th>\n",
       "      <td>0</td>\n",
       "      <td>4.0</td>\n",
       "      <td>718727.905</td>\n",
       "      <td>-1345.095</td>\n",
       "      <td>0.997332</td>\n",
       "      <td>4528.0</td>\n",
       "      <td>7.0</td>\n",
       "      <td>1.002213</td>\n",
       "      <td>42.845</td>\n",
       "      <td>29.440</td>\n",
       "      <td>4489.5</td>\n",
       "      <td>1.768473</td>\n",
       "      <td>3.033000e-07</td>\n",
       "      <td>3.0</td>\n",
       "      <td>2</td>\n",
       "    </tr>\n",
       "  </tbody>\n",
       "</table>\n",
       "</div>"
      ],
      "text/plain": [
       "\n",
       "   exp_no  timestamp_bin  A1_Resistance  A1_Resistance_diff  \\\n",
       "\u001b[1;36m0\u001b[0m       \u001b[1;36m0\u001b[0m            \u001b[1;36m0.0\u001b[0m     \u001b[1;36m720650.750\u001b[0m               \u001b[1;36m0.000\u001b[0m   \n",
       "\u001b[1;36m1\u001b[0m       \u001b[1;36m0\u001b[0m            \u001b[1;36m1.0\u001b[0m     \u001b[1;36m720361.875\u001b[0m               \u001b[1;36m0.000\u001b[0m   \n",
       "\u001b[1;36m2\u001b[0m       \u001b[1;36m0\u001b[0m            \u001b[1;36m2.0\u001b[0m     \u001b[1;36m719688.470\u001b[0m            \u001b[1;36m-673.405\u001b[0m   \n",
       "\u001b[1;36m3\u001b[0m       \u001b[1;36m0\u001b[0m            \u001b[1;36m3.0\u001b[0m     \u001b[1;36m719015.940\u001b[0m           \u001b[1;36m-1634.810\u001b[0m   \n",
       "\u001b[1;36m4\u001b[0m       \u001b[1;36m0\u001b[0m            \u001b[1;36m4.0\u001b[0m     \u001b[1;36m718727.905\u001b[0m           \u001b[1;36m-1345.095\u001b[0m   \n",
       "\n",
       "   A1_Resistance_norm  A1_Sensor  A1_Sensor_diff  A1_Sensor_norm  \\\n",
       "\u001b[1;36m0\u001b[0m            \u001b[1;36m1.000000\u001b[0m     \u001b[1;36m4518.0\u001b[0m             \u001b[1;36m0.0\u001b[0m        \u001b[1;36m1.000000\u001b[0m   \n",
       "\u001b[1;36m1\u001b[0m            \u001b[1;36m0.999599\u001b[0m     \u001b[1;36m4519.5\u001b[0m             \u001b[1;36m0.0\u001b[0m        \u001b[1;36m1.000332\u001b[0m   \n",
       "\u001b[1;36m2\u001b[0m            \u001b[1;36m0.998665\u001b[0m     \u001b[1;36m4523.0\u001b[0m             \u001b[1;36m3.5\u001b[0m        \u001b[1;36m1.001107\u001b[0m   \n",
       "\u001b[1;36m3\u001b[0m            \u001b[1;36m0.997731\u001b[0m     \u001b[1;36m4526.5\u001b[0m             \u001b[1;36m8.5\u001b[0m        \u001b[1;36m1.001881\u001b[0m   \n",
       "\u001b[1;36m4\u001b[0m            \u001b[1;36m0.997332\u001b[0m     \u001b[1;36m4528.0\u001b[0m             \u001b[1;36m7.0\u001b[0m        \u001b[1;36m1.002213\u001b[0m   \n",
       "\n",
       "   SHT40_Humidity  SHT40_temp   index  resistance_ratio      ace_conc  \\\n",
       "\u001b[1;36m0\u001b[0m          \u001b[1;36m42.835\u001b[0m      \u001b[1;36m29.430\u001b[0m  \u001b[1;36m4481.5\u001b[0m          \u001b[1;36m1.768473\u001b[0m  \u001b[1;36m3.033000e-07\u001b[0m   \n",
       "\u001b[1;36m1\u001b[0m          \u001b[1;36m42.840\u001b[0m      \u001b[1;36m29.435\u001b[0m  \u001b[1;36m4483.5\u001b[0m          \u001b[1;36m1.768473\u001b[0m  \u001b[1;36m3.033000e-07\u001b[0m   \n",
       "\u001b[1;36m2\u001b[0m          \u001b[1;36m42.845\u001b[0m      \u001b[1;36m29.445\u001b[0m  \u001b[1;36m4485.5\u001b[0m          \u001b[1;36m1.768473\u001b[0m  \u001b[1;36m3.033000e-07\u001b[0m   \n",
       "\u001b[1;36m3\u001b[0m          \u001b[1;36m42.830\u001b[0m      \u001b[1;36m29.435\u001b[0m  \u001b[1;36m4487.5\u001b[0m          \u001b[1;36m1.768473\u001b[0m  \u001b[1;36m3.033000e-07\u001b[0m   \n",
       "\u001b[1;36m4\u001b[0m          \u001b[1;36m42.845\u001b[0m      \u001b[1;36m29.440\u001b[0m  \u001b[1;36m4489.5\u001b[0m          \u001b[1;36m1.768473\u001b[0m  \u001b[1;36m3.033000e-07\u001b[0m   \n",
       "\n",
       "   expo_time  cluster  \n",
       "\u001b[1;36m0\u001b[0m        \u001b[1;36m3.0\u001b[0m        \u001b[1;36m2\u001b[0m  \n",
       "\u001b[1;36m1\u001b[0m        \u001b[1;36m3.0\u001b[0m        \u001b[1;36m2\u001b[0m  \n",
       "\u001b[1;36m2\u001b[0m        \u001b[1;36m3.0\u001b[0m        \u001b[1;36m2\u001b[0m  \n",
       "\u001b[1;36m3\u001b[0m        \u001b[1;36m3.0\u001b[0m        \u001b[1;36m2\u001b[0m  \n",
       "\u001b[1;36m4\u001b[0m        \u001b[1;36m3.0\u001b[0m        \u001b[1;36m2\u001b[0m  "
      ]
     },
     "execution_count": 11,
     "metadata": {},
     "output_type": "execute_result"
    }
   ],
   "source": [
    "df_with_clusters.head()\n",
    "# df_with_clusters.to_parquet(\"cluster_conc_aligned_df.pq\")"
   ]
  },
  {
   "cell_type": "code",
   "execution_count": 10,
   "metadata": {},
   "outputs": [
    {
     "data": {
      "text/html": [
       "<pre style=\"white-space:pre;overflow-x:auto;line-height:normal;font-family:Menlo,'DejaVu Sans Mono',consolas,'Courier New',monospace\"></pre>\n"
      ],
      "text/plain": []
     },
     "metadata": {},
     "output_type": "display_data"
    },
    {
     "data": {
      "image/png": "[encoded data removed]",
      "text/plain": [
       "\u001b[1m<\u001b[0m\u001b[1;95mFigure\u001b[0m\u001b[39m size 100\u001b[0m\u001b[1;36m0x600\u001b[0m\u001b[39m with \u001b[0m\u001b[1;36m1\u001b[0m\u001b[39m Axes\u001b[0m\u001b[1m>\u001b[0m"
      ]
     },
     "metadata": {},
     "output_type": "display_data"
    }
   ],
   "source": [
    "import matplotlib.pyplot as plt\n",
    "from sklearn.cluster import KMeans\n",
    "\n",
    "# Calculate WCSS for different number of clusters\n",
    "wcss = []\n",
    "for i in range(1, 11):\n",
    "    kmeans = KMeans(n_clusters=i, random_state=42)\n",
    "    kmeans.fit(scaled_features)\n",
    "    wcss.append(kmeans.inertia_)\n",
    "\n",
    "# Plot the WCSS to visualize the Elbow\n",
    "plt.figure(figsize=(10, 6))\n",
    "plt.plot(range(1, 11), wcss, marker='o')\n",
    "plt.title('Elbow Method')\n",
    "plt.xlabel('Number of Clusters')\n",
    "plt.ylabel('WCSS')\n",
    "plt.show()\n"
   ]
  }
 ],
 "metadata": {
  "kernelspec": {
   "display_name": "kedro",
   "language": "python",
   "name": "python3"
  },
  "language_info": {
   "codemirror_mode": {
    "name": "ipython",
    "version": 3
   },
   "file_extension": ".py",
   "mimetype": "text/x-python",
   "name": "python",
   "nbconvert_exporter": "python",
   "pygments_lexer": "ipython3",
   "version": "3.10.13"
  }
 },
 "nbformat": 4,
 "nbformat_minor": 2
}
