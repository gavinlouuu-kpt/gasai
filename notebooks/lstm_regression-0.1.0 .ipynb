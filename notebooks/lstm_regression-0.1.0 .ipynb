{
 "cells": [
  {
   "cell_type": "code",
   "execution_count": 14,
   "metadata": {},
   "outputs": [
    {
     "name": "stdout",
     "output_type": "stream",
     "text": [
      "The kedro.ipython extension is already loaded. To reload it, use:\n",
      "  %reload_ext kedro.ipython\n"
     ]
    }
   ],
   "source": [
    "%load_ext kedro.ipython"
   ]
  },
  {
   "cell_type": "code",
   "execution_count": 15,
   "metadata": {},
   "outputs": [
    {
     "data": {
      "text/html": [
       "<pre style=\"white-space:pre;overflow-x:auto;line-height:normal;font-family:Menlo,'DejaVu Sans Mono',consolas,'Courier New',monospace\"><span style=\"color: #7fbfbf; text-decoration-color: #7fbfbf\">[05/16/24 20:05:54] </span><span style=\"color: #000080; text-decoration-color: #000080\">INFO    </span> Registered line magic <span style=\"color: #008000; text-decoration-color: #008000\">'%reload_kedro'</span>                                   <a href=\"file:///Users/gavinlou/.pyenv/versions/3.10.13/envs/kedro/lib/python3.10/site-packages/kedro/ipython/__init__.py\" target=\"_blank\"><span style=\"color: #7f7f7f; text-decoration-color: #7f7f7f\">__init__.py</span></a><span style=\"color: #7f7f7f; text-decoration-color: #7f7f7f\">:</span><a href=\"file:///Users/gavinlou/.pyenv/versions/3.10.13/envs/kedro/lib/python3.10/site-packages/kedro/ipython/__init__.py#51\" target=\"_blank\"><span style=\"color: #7f7f7f; text-decoration-color: #7f7f7f\">51</span></a>\n",
       "</pre>\n"
      ],
      "text/plain": [
       "\u001b[2;36m[05/16/24 20:05:54]\u001b[0m\u001b[2;36m \u001b[0m\u001b[34mINFO    \u001b[0m Registered line magic \u001b[32m'%reload_kedro'\u001b[0m                                   \u001b]8;id=126140;file:///Users/gavinlou/.pyenv/versions/3.10.13/envs/kedro/lib/python3.10/site-packages/kedro/ipython/__init__.py\u001b\\\u001b[2m__init__.py\u001b[0m\u001b]8;;\u001b\\\u001b[2m:\u001b[0m\u001b]8;id=417749;file:///Users/gavinlou/.pyenv/versions/3.10.13/envs/kedro/lib/python3.10/site-packages/kedro/ipython/__init__.py#51\u001b\\\u001b[2m51\u001b[0m\u001b]8;;\u001b\\\n"
      ]
     },
     "metadata": {},
     "output_type": "display_data"
    },
    {
     "data": {
      "text/html": [
       "<pre style=\"white-space:pre;overflow-x:auto;line-height:normal;font-family:Menlo,'DejaVu Sans Mono',consolas,'Courier New',monospace\"><span style=\"color: #7fbfbf; text-decoration-color: #7fbfbf\">                    </span><span style=\"color: #000080; text-decoration-color: #000080\">INFO    </span> Registered line magic <span style=\"color: #008000; text-decoration-color: #008000\">'%load_node'</span>                                      <a href=\"file:///Users/gavinlou/.pyenv/versions/3.10.13/envs/kedro/lib/python3.10/site-packages/kedro/ipython/__init__.py\" target=\"_blank\"><span style=\"color: #7f7f7f; text-decoration-color: #7f7f7f\">__init__.py</span></a><span style=\"color: #7f7f7f; text-decoration-color: #7f7f7f\">:</span><a href=\"file:///Users/gavinlou/.pyenv/versions/3.10.13/envs/kedro/lib/python3.10/site-packages/kedro/ipython/__init__.py#53\" target=\"_blank\"><span style=\"color: #7f7f7f; text-decoration-color: #7f7f7f\">53</span></a>\n",
       "</pre>\n"
      ],
      "text/plain": [
       "\u001b[2;36m                   \u001b[0m\u001b[2;36m \u001b[0m\u001b[34mINFO    \u001b[0m Registered line magic \u001b[32m'%load_node'\u001b[0m                                      \u001b]8;id=14166;file:///Users/gavinlou/.pyenv/versions/3.10.13/envs/kedro/lib/python3.10/site-packages/kedro/ipython/__init__.py\u001b\\\u001b[2m__init__.py\u001b[0m\u001b]8;;\u001b\\\u001b[2m:\u001b[0m\u001b]8;id=919121;file:///Users/gavinlou/.pyenv/versions/3.10.13/envs/kedro/lib/python3.10/site-packages/kedro/ipython/__init__.py#53\u001b\\\u001b[2m53\u001b[0m\u001b]8;;\u001b\\\n"
      ]
     },
     "metadata": {},
     "output_type": "display_data"
    },
    {
     "data": {
      "text/html": [
       "<pre style=\"white-space:pre;overflow-x:auto;line-height:normal;font-family:Menlo,'DejaVu Sans Mono',consolas,'Courier New',monospace\"><span style=\"color: #7fbfbf; text-decoration-color: #7fbfbf\">                    </span><span style=\"color: #000080; text-decoration-color: #000080\">INFO    </span> Resolved project path as: <span style=\"color: #800080; text-decoration-color: #800080\">/Users/gavinlou/Developer/</span><span style=\"color: #ff00ff; text-decoration-color: #ff00ff\">gasai.</span>             <a href=\"file:///Users/gavinlou/.pyenv/versions/3.10.13/envs/kedro/lib/python3.10/site-packages/kedro/ipython/__init__.py\" target=\"_blank\"><span style=\"color: #7f7f7f; text-decoration-color: #7f7f7f\">__init__.py</span></a><span style=\"color: #7f7f7f; text-decoration-color: #7f7f7f\">:</span><a href=\"file:///Users/gavinlou/.pyenv/versions/3.10.13/envs/kedro/lib/python3.10/site-packages/kedro/ipython/__init__.py#164\" target=\"_blank\"><span style=\"color: #7f7f7f; text-decoration-color: #7f7f7f\">164</span></a>\n",
       "<span style=\"color: #7fbfbf; text-decoration-color: #7fbfbf\">                    </span>         To set a different path, run <span style=\"color: #008000; text-decoration-color: #008000\">'%reload_kedro &lt;project_root&gt;'</span>            <span style=\"color: #7f7f7f; text-decoration-color: #7f7f7f\">               </span>\n",
       "</pre>\n"
      ],
      "text/plain": [
       "\u001b[2;36m                   \u001b[0m\u001b[2;36m \u001b[0m\u001b[34mINFO    \u001b[0m Resolved project path as: \u001b[35m/Users/gavinlou/Developer/\u001b[0m\u001b[95mgasai.\u001b[0m             \u001b]8;id=723498;file:///Users/gavinlou/.pyenv/versions/3.10.13/envs/kedro/lib/python3.10/site-packages/kedro/ipython/__init__.py\u001b\\\u001b[2m__init__.py\u001b[0m\u001b]8;;\u001b\\\u001b[2m:\u001b[0m\u001b]8;id=455378;file:///Users/gavinlou/.pyenv/versions/3.10.13/envs/kedro/lib/python3.10/site-packages/kedro/ipython/__init__.py#164\u001b\\\u001b[2m164\u001b[0m\u001b]8;;\u001b\\\n",
       "\u001b[2;36m                    \u001b[0m         To set a different path, run \u001b[32m'%reload_kedro \u001b[0m\u001b[32m<\u001b[0m\u001b[32mproject_root\u001b[0m\u001b[32m>\u001b[0m\u001b[32m'\u001b[0m            \u001b[2m               \u001b[0m\n"
      ]
     },
     "metadata": {},
     "output_type": "display_data"
    },
    {
     "data": {
      "text/html": [
       "<pre style=\"white-space:pre;overflow-x:auto;line-height:normal;font-family:Menlo,'DejaVu Sans Mono',consolas,'Courier New',monospace\"><span style=\"color: #7fbfbf; text-decoration-color: #7fbfbf\">                    </span><span style=\"color: #000080; text-decoration-color: #000080\">INFO    </span> Kedro project gasAI                                                    <a href=\"file:///Users/gavinlou/.pyenv/versions/3.10.13/envs/kedro/lib/python3.10/site-packages/kedro/ipython/__init__.py\" target=\"_blank\"><span style=\"color: #7f7f7f; text-decoration-color: #7f7f7f\">__init__.py</span></a><span style=\"color: #7f7f7f; text-decoration-color: #7f7f7f\">:</span><a href=\"file:///Users/gavinlou/.pyenv/versions/3.10.13/envs/kedro/lib/python3.10/site-packages/kedro/ipython/__init__.py#134\" target=\"_blank\"><span style=\"color: #7f7f7f; text-decoration-color: #7f7f7f\">134</span></a>\n",
       "</pre>\n"
      ],
      "text/plain": [
       "\u001b[2;36m                   \u001b[0m\u001b[2;36m \u001b[0m\u001b[34mINFO    \u001b[0m Kedro project gasAI                                                    \u001b]8;id=377879;file:///Users/gavinlou/.pyenv/versions/3.10.13/envs/kedro/lib/python3.10/site-packages/kedro/ipython/__init__.py\u001b\\\u001b[2m__init__.py\u001b[0m\u001b]8;;\u001b\\\u001b[2m:\u001b[0m\u001b]8;id=831571;file:///Users/gavinlou/.pyenv/versions/3.10.13/envs/kedro/lib/python3.10/site-packages/kedro/ipython/__init__.py#134\u001b\\\u001b[2m134\u001b[0m\u001b]8;;\u001b\\\n"
      ]
     },
     "metadata": {},
     "output_type": "display_data"
    },
    {
     "data": {
      "text/html": [
       "<pre style=\"white-space:pre;overflow-x:auto;line-height:normal;font-family:Menlo,'DejaVu Sans Mono',consolas,'Courier New',monospace\"><span style=\"color: #7fbfbf; text-decoration-color: #7fbfbf\">                    </span><span style=\"color: #000080; text-decoration-color: #000080\">INFO    </span> Defined global variable <span style=\"color: #008000; text-decoration-color: #008000\">'context'</span>, <span style=\"color: #008000; text-decoration-color: #008000\">'session'</span>, <span style=\"color: #008000; text-decoration-color: #008000\">'catalog'</span> and            <a href=\"file:///Users/gavinlou/.pyenv/versions/3.10.13/envs/kedro/lib/python3.10/site-packages/kedro/ipython/__init__.py\" target=\"_blank\"><span style=\"color: #7f7f7f; text-decoration-color: #7f7f7f\">__init__.py</span></a><span style=\"color: #7f7f7f; text-decoration-color: #7f7f7f\">:</span><a href=\"file:///Users/gavinlou/.pyenv/versions/3.10.13/envs/kedro/lib/python3.10/site-packages/kedro/ipython/__init__.py#135\" target=\"_blank\"><span style=\"color: #7f7f7f; text-decoration-color: #7f7f7f\">135</span></a>\n",
       "<span style=\"color: #7fbfbf; text-decoration-color: #7fbfbf\">                    </span>         <span style=\"color: #008000; text-decoration-color: #008000\">'pipelines'</span>                                                            <span style=\"color: #7f7f7f; text-decoration-color: #7f7f7f\">               </span>\n",
       "</pre>\n"
      ],
      "text/plain": [
       "\u001b[2;36m                   \u001b[0m\u001b[2;36m \u001b[0m\u001b[34mINFO    \u001b[0m Defined global variable \u001b[32m'context'\u001b[0m, \u001b[32m'session'\u001b[0m, \u001b[32m'catalog'\u001b[0m and            \u001b]8;id=363076;file:///Users/gavinlou/.pyenv/versions/3.10.13/envs/kedro/lib/python3.10/site-packages/kedro/ipython/__init__.py\u001b\\\u001b[2m__init__.py\u001b[0m\u001b]8;;\u001b\\\u001b[2m:\u001b[0m\u001b]8;id=908803;file:///Users/gavinlou/.pyenv/versions/3.10.13/envs/kedro/lib/python3.10/site-packages/kedro/ipython/__init__.py#135\u001b\\\u001b[2m135\u001b[0m\u001b]8;;\u001b\\\n",
       "\u001b[2;36m                    \u001b[0m         \u001b[32m'pipelines'\u001b[0m                                                            \u001b[2m               \u001b[0m\n"
      ]
     },
     "metadata": {},
     "output_type": "display_data"
    },
    {
     "data": {
      "text/html": [
       "<pre style=\"white-space:pre;overflow-x:auto;line-height:normal;font-family:Menlo,'DejaVu Sans Mono',consolas,'Courier New',monospace\"><span style=\"color: #7fbfbf; text-decoration-color: #7fbfbf\">                    </span><span style=\"color: #000080; text-decoration-color: #000080\">INFO    </span> Registered line magic <span style=\"color: #008000; text-decoration-color: #008000\">'run_viz'</span>                                        <a href=\"file:///Users/gavinlou/.pyenv/versions/3.10.13/envs/kedro/lib/python3.10/site-packages/kedro/ipython/__init__.py\" target=\"_blank\"><span style=\"color: #7f7f7f; text-decoration-color: #7f7f7f\">__init__.py</span></a><span style=\"color: #7f7f7f; text-decoration-color: #7f7f7f\">:</span><a href=\"file:///Users/gavinlou/.pyenv/versions/3.10.13/envs/kedro/lib/python3.10/site-packages/kedro/ipython/__init__.py#141\" target=\"_blank\"><span style=\"color: #7f7f7f; text-decoration-color: #7f7f7f\">141</span></a>\n",
       "</pre>\n"
      ],
      "text/plain": [
       "\u001b[2;36m                   \u001b[0m\u001b[2;36m \u001b[0m\u001b[34mINFO    \u001b[0m Registered line magic \u001b[32m'run_viz'\u001b[0m                                        \u001b]8;id=381049;file:///Users/gavinlou/.pyenv/versions/3.10.13/envs/kedro/lib/python3.10/site-packages/kedro/ipython/__init__.py\u001b\\\u001b[2m__init__.py\u001b[0m\u001b]8;;\u001b\\\u001b[2m:\u001b[0m\u001b]8;id=95806;file:///Users/gavinlou/.pyenv/versions/3.10.13/envs/kedro/lib/python3.10/site-packages/kedro/ipython/__init__.py#141\u001b\\\u001b[2m141\u001b[0m\u001b]8;;\u001b\\\n"
      ]
     },
     "metadata": {},
     "output_type": "display_data"
    }
   ],
   "source": [
    "%reload_ext kedro.ipython"
   ]
  },
  {
   "cell_type": "code",
   "execution_count": 16,
   "metadata": {},
   "outputs": [
    {
     "data": {
      "text/html": [
       "<pre style=\"white-space:pre;overflow-x:auto;line-height:normal;font-family:Menlo,'DejaVu Sans Mono',consolas,'Courier New',monospace\"><span style=\"color: #7fbfbf; text-decoration-color: #7fbfbf\">                    </span><span style=\"color: #000080; text-decoration-color: #000080\">INFO    </span> Loading data from <span style=\"color: #ff8700; text-decoration-color: #ff8700\">s3_conc_aligned_df</span> <span style=\"font-weight: bold\">(</span>ParquetDataset<span style=\"font-weight: bold\">)</span><span style=\"color: #808000; text-decoration-color: #808000\">...</span>           <a href=\"file:///Users/gavinlou/.pyenv/versions/3.10.13/envs/kedro/lib/python3.10/site-packages/kedro/io/data_catalog.py\" target=\"_blank\"><span style=\"color: #7f7f7f; text-decoration-color: #7f7f7f\">data_catalog.py</span></a><span style=\"color: #7f7f7f; text-decoration-color: #7f7f7f\">:</span><a href=\"file:///Users/gavinlou/.pyenv/versions/3.10.13/envs/kedro/lib/python3.10/site-packages/kedro/io/data_catalog.py#483\" target=\"_blank\"><span style=\"color: #7f7f7f; text-decoration-color: #7f7f7f\">483</span></a>\n",
       "</pre>\n"
      ],
      "text/plain": [
       "\u001b[2;36m                   \u001b[0m\u001b[2;36m \u001b[0m\u001b[34mINFO    \u001b[0m Loading data from \u001b[38;5;208ms3_conc_aligned_df\u001b[0m \u001b[1m(\u001b[0mParquetDataset\u001b[1m)\u001b[0m\u001b[33m...\u001b[0m           \u001b]8;id=740055;file:///Users/gavinlou/.pyenv/versions/3.10.13/envs/kedro/lib/python3.10/site-packages/kedro/io/data_catalog.py\u001b\\\u001b[2mdata_catalog.py\u001b[0m\u001b]8;;\u001b\\\u001b[2m:\u001b[0m\u001b]8;id=526110;file:///Users/gavinlou/.pyenv/versions/3.10.13/envs/kedro/lib/python3.10/site-packages/kedro/io/data_catalog.py#483\u001b\\\u001b[2m483\u001b[0m\u001b]8;;\u001b\\\n"
      ]
     },
     "metadata": {},
     "output_type": "display_data"
    }
   ],
   "source": [
    "df = catalog.load(\"s3_conc_aligned_df\")"
   ]
  },
  {
   "cell_type": "code",
   "execution_count": 17,
   "metadata": {},
   "outputs": [],
   "source": [
    "import torch\n",
    "from torch.utils.data import Dataset, DataLoader\n",
    "import numpy as np\n",
    "from sklearn.model_selection import GroupShuffleSplit\n",
    "\n",
    "class GroupDataset(Dataset):\n",
    "    def __init__(self, X, y, groups):\n",
    "        self.X = X.unsqueeze(2)\n",
    "        self.y = y.unsqueeze(1)\n",
    "        self.groups = groups\n",
    "        self.group_to_indices = self._group_indices()\n",
    "\n",
    "    def _group_indices(self):\n",
    "        group_to_indices = {}\n",
    "        for idx, group in enumerate(self.groups):\n",
    "            if group not in group_to_indices:\n",
    "                group_to_indices[group] = []\n",
    "            group_to_indices[group].append(idx)\n",
    "        return group_to_indices\n",
    "\n",
    "    def __len__(self):\n",
    "        return len(self.X)\n",
    "\n",
    "    def __getitem__(self, idx):\n",
    "        return self.X[idx], self.y[idx], self.groups[idx]\n",
    "\n",
    "class ExperimentSampler:\n",
    "    def __init__(self, group_to_indices, batch_size):\n",
    "        self.group_to_indices = group_to_indices\n",
    "        self.batch_size = batch_size\n",
    "        self.group_order = list(group_to_indices.keys())\n",
    "        np.random.shuffle(self.group_order)  # Shuffle the order of groups\n",
    "\n",
    "    def __iter__(self):\n",
    "        for group in self.group_order:\n",
    "            indices = self.group_to_indices[group]\n",
    "            for i in range(0, len(indices), self.batch_size):\n",
    "                yield indices[i:i + self.batch_size]\n",
    "\n",
    "    def __len__(self):\n",
    "        total_batches = 0\n",
    "        for indices in self.group_to_indices.values():\n",
    "            total_batches += (len(indices) + self.batch_size - 1) // self.batch_size\n",
    "        return total_batches\n",
    "\n",
    "# Define the features and target\n",
    "features = ['timestamp_bin', 'A1_Resistance']\n",
    "target = 'resistance_ratio'\n",
    "X_tensor = df[features]\n",
    "y_tensor = df[target]\n",
    "groups = df['exp_no']\n",
    "batch_size = 32\n",
    "\n",
    "# Convert to PyTorch tensors\n",
    "X_tensor = torch.tensor(X_tensor.values, dtype=torch.float32)\n",
    "y_tensor = torch.tensor(y_tensor.values, dtype=torch.float32)\n",
    "# Convert groups to NumPy array\n",
    "groups = np.array(groups)\n",
    "\n",
    "# Create dataset\n",
    "dataset = GroupDataset(X_tensor, y_tensor, groups)\n",
    "\n",
    "# Split the data into training and testing sets using GroupShuffleSplit\n",
    "gss = GroupShuffleSplit(test_size=0.2, n_splits=1, random_state=42)\n",
    "train_idx, test_idx = next(gss.split(X_tensor, y_tensor, groups=groups))\n",
    "\n",
    "train_dataset = GroupDataset(X_tensor[train_idx], y_tensor[train_idx], groups[train_idx])\n",
    "test_dataset = GroupDataset(X_tensor[test_idx], y_tensor[test_idx], groups[test_idx])\n",
    "\n",
    "# Create experiment samplers\n",
    "train_sampler = ExperimentSampler(train_dataset.group_to_indices, batch_size)\n",
    "test_sampler = ExperimentSampler(test_dataset.group_to_indices, batch_size)\n",
    "\n",
    "# Create data loaders\n",
    "train_loader = DataLoader(train_dataset, batch_sampler=train_sampler)\n",
    "test_loader = DataLoader(test_dataset, batch_sampler=test_sampler)\n",
    "\n",
    "# # Example: iterating through the train data loader\n",
    "# print(\"Train Batches:\")\n",
    "# for batch_indices in train_loader:\n",
    "#     # Flatten the list of indices\n",
    "#     batch_indices = [item for sublist in batch_indices for item in sublist]\n",
    "#     X_batch = train_dataset.X[batch_indices]\n",
    "#     y_batch = train_dataset.y[batch_indices]\n",
    "#     print(X_batch.shape, y_batch.shape, batch_indices)\n",
    "\n"
   ]
  },
  {
   "cell_type": "code",
   "execution_count": 18,
   "metadata": {},
   "outputs": [],
   "source": [
    "import torch\n",
    "import torch.nn as nn\n",
    "import torch.nn.functional as F\n",
    "\n",
    "device = torch.device(\"mps\" if torch.cuda.is_available() else \"cpu\")\n",
    "\n",
    "class RNN(nn.Module):\n",
    "    def __init__(self, input_size, hidden_size, num_layers, num_classes):\n",
    "        super(RNN, self).__init__()\n",
    "        self.num_layers = num_layers\n",
    "        self.hidden_size = hidden_size\n",
    "        self.lstm = nn.LSTM(input_size, hidden_size, num_layers, batch_first=True)\n",
    "        self.fc = nn.Linear(hidden_size, num_classes)\n",
    "        \n",
    "    def forward(self, x):\n",
    "        # Set initial hidden states (and cell states for LSTM)\n",
    "        h0 = torch.zeros(self.num_layers, x.size(0), self.hidden_size).to(device) \n",
    "        c0 = torch.zeros(self.num_layers, x.size(0), self.hidden_size).to(device) \n",
    "        out, _ = self.lstm(x, (h0,c0))  \n",
    "        out = out[:, -1, :]\n",
    "        out = self.fc(out)\n",
    "        return out\n",
    "\n",
    "\n"
   ]
  },
  {
   "cell_type": "code",
   "execution_count": 19,
   "metadata": {},
   "outputs": [
    {
     "name": "stdout",
     "output_type": "stream",
     "text": [
      "Epoch 1 Train Loss: 0.1696 Val RMSE: 0.4124\n",
      "Epoch 2 Train Loss: 0.1798 Val RMSE: 0.4157\n",
      "Epoch 3 Train Loss: 0.1852 Val RMSE: 0.4170\n",
      "Epoch 4 Train Loss: 0.1863 Val RMSE: 0.4171\n",
      "Epoch 5 Train Loss: 0.1890 Val RMSE: 0.4110\n",
      "Epoch 6 Train Loss: 0.1890 Val RMSE: 0.4170\n",
      "Epoch 7 Train Loss: 0.1886 Val RMSE: 0.4162\n",
      "Epoch 8 Train Loss: 0.1880 Val RMSE: 0.4166\n",
      "Epoch 9 Train Loss: 0.1886 Val RMSE: 0.4108\n",
      "Epoch 10 Train Loss: 0.1893 Val RMSE: 0.4125\n",
      "Epoch 11 Train Loss: 0.1881 Val RMSE: 0.4162\n",
      "Epoch 12 Train Loss: 0.1896 Val RMSE: 0.4114\n",
      "Epoch 13 Train Loss: 0.1892 Val RMSE: 0.4106\n",
      "Epoch 14 Train Loss: 0.1896 Val RMSE: 0.4102\n",
      "Epoch 15 Train Loss: 0.1894 Val RMSE: 0.4105\n"
     ]
    }
   ],
   "source": [
    "from torch.optim import Adam\n",
    "from math import sqrt\n",
    "\n",
    "input_size = X_tensor.shape[1]\n",
    "hidden_size = 32\n",
    "num_layers = 2\n",
    "num_classes = 1\n",
    "\n",
    "device = torch.device(\"mps\" if torch.cuda.is_available() else \"cpu\")\n",
    "\n",
    "model = RNN(input_size, hidden_size, num_layers, num_classes).to(device)\n",
    "criterion = nn.MSELoss()\n",
    "optimizer = Adam(model.parameters(), lr=0.001)\n",
    "\n",
    "def calculate_rmse(outputs, labels):\n",
    "    mse = torch.mean((outputs - labels) ** 2)  # Calculate MSE as a tensor\n",
    "    return torch.sqrt(mse)  # Return RMSE as a tensor\n",
    "\n",
    "\n",
    "\n",
    "def train_model(model, train_loader, val_loader, n_epochs):\n",
    "    for epoch in range(n_epochs):\n",
    "        model.train()\n",
    "        running_loss = 0.0\n",
    "        for inputs, labels, _ in train_loader:\n",
    "            inputs, labels = inputs.to(device), labels.to(device)\n",
    "            # print(inputs.shape)\n",
    "            inputs = inputs.transpose(1, 2)\n",
    "            optimizer.zero_grad()\n",
    "            outputs = model(inputs)\n",
    "            loss = criterion(outputs, labels)\n",
    "            loss.backward()\n",
    "            optimizer.step()\n",
    "            running_loss += loss.item() * inputs.size(0)\n",
    "        epoch_loss = running_loss / len(train_loader.dataset)\n",
    "        \n",
    "        # Validation\n",
    "        model.eval()\n",
    "\n",
    "        # During validation\n",
    "        val_rmse = 0.0\n",
    "        total_samples = 0\n",
    "        with torch.no_grad():\n",
    "            for inputs, labels, _ in val_loader:\n",
    "                inputs, labels = inputs.to(device), labels.to(device)\n",
    "                inputs = inputs.transpose(1, 2)\n",
    "                outputs = model(inputs)\n",
    "                batch_rmse = calculate_rmse(outputs, labels) * inputs.size(0)\n",
    "                val_rmse += batch_rmse.item()  # Properly use .item() to convert tensor to float\n",
    "                total_samples += inputs.size(0)\n",
    "\n",
    "        val_rmse /= total_samples\n",
    "        print(f'Epoch {epoch+1} Train Loss: {epoch_loss:.4f} Val RMSE: {val_rmse:.4f}')\n",
    "\n",
    "# Training the model\n",
    "train_model(model, train_loader, test_loader, n_epochs=15)\n"
   ]
  },
  {
   "cell_type": "code",
   "execution_count": 22,
   "metadata": {},
   "outputs": [
    {
     "name": "stdout",
     "output_type": "stream",
     "text": [
      "tensor([[[0.0000e+00],\n",
      "         [9.4908e+05]],\n",
      "\n",
      "        [[1.0000e+00],\n",
      "         [9.4923e+05]],\n",
      "\n",
      "        [[2.0000e+00],\n",
      "         [9.4867e+05]],\n",
      "\n",
      "        [[3.0000e+00],\n",
      "         [9.4892e+05]],\n",
      "\n",
      "        [[4.0000e+00],\n",
      "         [9.4617e+05]],\n",
      "\n",
      "        [[5.0000e+00],\n",
      "         [9.4409e+05]],\n",
      "\n",
      "        [[6.0000e+00],\n",
      "         [9.3979e+05]],\n",
      "\n",
      "        [[7.0000e+00],\n",
      "         [9.3708e+05]],\n",
      "\n",
      "        [[8.0000e+00],\n",
      "         [9.3304e+05]],\n",
      "\n",
      "        [[9.0000e+00],\n",
      "         [9.2785e+05]],\n",
      "\n",
      "        [[1.0000e+01],\n",
      "         [9.2466e+05]],\n",
      "\n",
      "        [[1.1000e+01],\n",
      "         [9.1862e+05]],\n",
      "\n",
      "        [[1.2000e+01],\n",
      "         [9.1457e+05]],\n",
      "\n",
      "        [[1.3000e+01],\n",
      "         [9.1084e+05]],\n",
      "\n",
      "        [[1.4000e+01],\n",
      "         [9.0572e+05]],\n",
      "\n",
      "        [[1.5000e+01],\n",
      "         [9.0388e+05]],\n",
      "\n",
      "        [[1.6000e+01],\n",
      "         [8.9849e+05]],\n",
      "\n",
      "        [[1.7000e+01],\n",
      "         [8.9548e+05]],\n",
      "\n",
      "        [[1.8000e+01],\n",
      "         [8.9100e+05]],\n",
      "\n",
      "        [[1.9000e+01],\n",
      "         [8.8762e+05]],\n",
      "\n",
      "        [[2.0000e+01],\n",
      "         [8.8570e+05]],\n",
      "\n",
      "        [[2.1000e+01],\n",
      "         [8.8353e+05]],\n",
      "\n",
      "        [[2.2000e+01],\n",
      "         [8.8217e+05]],\n",
      "\n",
      "        [[2.3000e+01],\n",
      "         [8.8217e+05]],\n",
      "\n",
      "        [[2.4000e+01],\n",
      "         [8.8136e+05]],\n",
      "\n",
      "        [[2.5000e+01],\n",
      "         [8.8190e+05]],\n",
      "\n",
      "        [[2.6000e+01],\n",
      "         [8.8244e+05]],\n",
      "\n",
      "        [[2.7000e+01],\n",
      "         [8.8416e+05]],\n",
      "\n",
      "        [[2.8000e+01],\n",
      "         [8.8598e+05]],\n",
      "\n",
      "        [[2.9000e+01],\n",
      "         [8.8707e+05]],\n",
      "\n",
      "        [[3.0000e+01],\n",
      "         [8.8967e+05]],\n",
      "\n",
      "        [[3.1000e+01],\n",
      "         [8.9132e+05]]])\n"
     ]
    }
   ],
   "source": [
    "# i want to examine the content of the loader to see if timestamps are being passed correctly\n",
    "\n",
    "for inputs, label, group in train_loader:\n",
    "    print(inputs)\n",
    "    break\n"
   ]
  },
  {
   "cell_type": "code",
   "execution_count": 21,
   "metadata": {},
   "outputs": [
    {
     "name": "stdout",
     "output_type": "stream",
     "text": [
      "torch.Size([469995, 2])\n"
     ]
    }
   ],
   "source": [
    "print(X_tensor.shape)"
   ]
  }
 ],
 "metadata": {
  "kernelspec": {
   "display_name": "kedro",
   "language": "python",
   "name": "python3"
  },
  "language_info": {
   "codemirror_mode": {
    "name": "ipython",
    "version": 3
   },
   "file_extension": ".py",
   "mimetype": "text/x-python",
   "name": "python",
   "nbconvert_exporter": "python",
   "pygments_lexer": "ipython3",
   "version": "3.10.13"
  }
 },
 "nbformat": 4,
 "nbformat_minor": 2
}
