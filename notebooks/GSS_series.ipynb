{
 "cells": [
  {
   "cell_type": "code",
   "execution_count": 1,
   "metadata": {},
   "outputs": [
    {
     "data": {
      "text/html": [
       "<pre style=\"white-space:pre;overflow-x:auto;line-height:normal;font-family:Menlo,'DejaVu Sans Mono',consolas,'Courier New',monospace\"><span style=\"color: #7fbfbf; text-decoration-color: #7fbfbf\">[05/16/24 16:10:26] </span><span style=\"color: #000080; text-decoration-color: #000080\">INFO    </span> Registered line magic <span style=\"color: #008000; text-decoration-color: #008000\">'%reload_kedro'</span>                                   <a href=\"file:///Users/gavinlou/.pyenv/versions/3.10.13/envs/kedro/lib/python3.10/site-packages/kedro/ipython/__init__.py\" target=\"_blank\"><span style=\"color: #7f7f7f; text-decoration-color: #7f7f7f\">__init__.py</span></a><span style=\"color: #7f7f7f; text-decoration-color: #7f7f7f\">:</span><a href=\"file:///Users/gavinlou/.pyenv/versions/3.10.13/envs/kedro/lib/python3.10/site-packages/kedro/ipython/__init__.py#51\" target=\"_blank\"><span style=\"color: #7f7f7f; text-decoration-color: #7f7f7f\">51</span></a>\n",
       "</pre>\n"
      ],
      "text/plain": [
       "\u001b[2;36m[05/16/24 16:10:26]\u001b[0m\u001b[2;36m \u001b[0m\u001b[34mINFO    \u001b[0m Registered line magic \u001b[32m'%reload_kedro'\u001b[0m                                   \u001b]8;id=408520;file:///Users/gavinlou/.pyenv/versions/3.10.13/envs/kedro/lib/python3.10/site-packages/kedro/ipython/__init__.py\u001b\\\u001b[2m__init__.py\u001b[0m\u001b]8;;\u001b\\\u001b[2m:\u001b[0m\u001b]8;id=476142;file:///Users/gavinlou/.pyenv/versions/3.10.13/envs/kedro/lib/python3.10/site-packages/kedro/ipython/__init__.py#51\u001b\\\u001b[2m51\u001b[0m\u001b]8;;\u001b\\\n"
      ]
     },
     "metadata": {},
     "output_type": "display_data"
    },
    {
     "data": {
      "text/html": [
       "<pre style=\"white-space:pre;overflow-x:auto;line-height:normal;font-family:Menlo,'DejaVu Sans Mono',consolas,'Courier New',monospace\"><span style=\"color: #7fbfbf; text-decoration-color: #7fbfbf\">                    </span><span style=\"color: #000080; text-decoration-color: #000080\">INFO    </span> Registered line magic <span style=\"color: #008000; text-decoration-color: #008000\">'%load_node'</span>                                      <a href=\"file:///Users/gavinlou/.pyenv/versions/3.10.13/envs/kedro/lib/python3.10/site-packages/kedro/ipython/__init__.py\" target=\"_blank\"><span style=\"color: #7f7f7f; text-decoration-color: #7f7f7f\">__init__.py</span></a><span style=\"color: #7f7f7f; text-decoration-color: #7f7f7f\">:</span><a href=\"file:///Users/gavinlou/.pyenv/versions/3.10.13/envs/kedro/lib/python3.10/site-packages/kedro/ipython/__init__.py#53\" target=\"_blank\"><span style=\"color: #7f7f7f; text-decoration-color: #7f7f7f\">53</span></a>\n",
       "</pre>\n"
      ],
      "text/plain": [
       "\u001b[2;36m                   \u001b[0m\u001b[2;36m \u001b[0m\u001b[34mINFO    \u001b[0m Registered line magic \u001b[32m'%load_node'\u001b[0m                                      \u001b]8;id=170434;file:///Users/gavinlou/.pyenv/versions/3.10.13/envs/kedro/lib/python3.10/site-packages/kedro/ipython/__init__.py\u001b\\\u001b[2m__init__.py\u001b[0m\u001b]8;;\u001b\\\u001b[2m:\u001b[0m\u001b]8;id=250977;file:///Users/gavinlou/.pyenv/versions/3.10.13/envs/kedro/lib/python3.10/site-packages/kedro/ipython/__init__.py#53\u001b\\\u001b[2m53\u001b[0m\u001b]8;;\u001b\\\n"
      ]
     },
     "metadata": {},
     "output_type": "display_data"
    },
    {
     "data": {
      "text/html": [
       "<pre style=\"white-space:pre;overflow-x:auto;line-height:normal;font-family:Menlo,'DejaVu Sans Mono',consolas,'Courier New',monospace\"><span style=\"color: #7fbfbf; text-decoration-color: #7fbfbf\">                    </span><span style=\"color: #000080; text-decoration-color: #000080\">INFO    </span> Resolved project path as: <span style=\"color: #800080; text-decoration-color: #800080\">/Users/gavinlou/Developer/</span><span style=\"color: #ff00ff; text-decoration-color: #ff00ff\">gasai.</span>             <a href=\"file:///Users/gavinlou/.pyenv/versions/3.10.13/envs/kedro/lib/python3.10/site-packages/kedro/ipython/__init__.py\" target=\"_blank\"><span style=\"color: #7f7f7f; text-decoration-color: #7f7f7f\">__init__.py</span></a><span style=\"color: #7f7f7f; text-decoration-color: #7f7f7f\">:</span><a href=\"file:///Users/gavinlou/.pyenv/versions/3.10.13/envs/kedro/lib/python3.10/site-packages/kedro/ipython/__init__.py#164\" target=\"_blank\"><span style=\"color: #7f7f7f; text-decoration-color: #7f7f7f\">164</span></a>\n",
       "<span style=\"color: #7fbfbf; text-decoration-color: #7fbfbf\">                    </span>         To set a different path, run <span style=\"color: #008000; text-decoration-color: #008000\">'%reload_kedro &lt;project_root&gt;'</span>            <span style=\"color: #7f7f7f; text-decoration-color: #7f7f7f\">               </span>\n",
       "</pre>\n"
      ],
      "text/plain": [
       "\u001b[2;36m                   \u001b[0m\u001b[2;36m \u001b[0m\u001b[34mINFO    \u001b[0m Resolved project path as: \u001b[35m/Users/gavinlou/Developer/\u001b[0m\u001b[95mgasai.\u001b[0m             \u001b]8;id=200330;file:///Users/gavinlou/.pyenv/versions/3.10.13/envs/kedro/lib/python3.10/site-packages/kedro/ipython/__init__.py\u001b\\\u001b[2m__init__.py\u001b[0m\u001b]8;;\u001b\\\u001b[2m:\u001b[0m\u001b]8;id=842425;file:///Users/gavinlou/.pyenv/versions/3.10.13/envs/kedro/lib/python3.10/site-packages/kedro/ipython/__init__.py#164\u001b\\\u001b[2m164\u001b[0m\u001b]8;;\u001b\\\n",
       "\u001b[2;36m                    \u001b[0m         To set a different path, run \u001b[32m'%reload_kedro \u001b[0m\u001b[32m<\u001b[0m\u001b[32mproject_root\u001b[0m\u001b[32m>\u001b[0m\u001b[32m'\u001b[0m            \u001b[2m               \u001b[0m\n"
      ]
     },
     "metadata": {},
     "output_type": "display_data"
    },
    {
     "name": "stderr",
     "output_type": "stream",
     "text": [
      "24/05/16 16:10:27 WARN Utils: Your hostname, Gavins-MacBook-Air.local resolves to a loopback address: 127.0.0.1; using 192.168.1.241 instead (on interface en0)\n",
      "24/05/16 16:10:27 WARN Utils: Set SPARK_LOCAL_IP if you need to bind to another address\n",
      "Setting default log level to \"WARN\".\n",
      "To adjust logging level use sc.setLogLevel(newLevel). For SparkR, use setLogLevel(newLevel).\n",
      "24/05/16 16:10:27 WARN NativeCodeLoader: Unable to load native-hadoop library for your platform... using builtin-java classes where applicable\n"
     ]
    },
    {
     "data": {
      "text/html": [
       "<pre style=\"white-space:pre;overflow-x:auto;line-height:normal;font-family:Menlo,'DejaVu Sans Mono',consolas,'Courier New',monospace\"><span style=\"color: #7fbfbf; text-decoration-color: #7fbfbf\">[05/16/24 16:10:28] </span><span style=\"color: #000080; text-decoration-color: #000080\">INFO    </span> Kedro project gasAI                                                    <a href=\"file:///Users/gavinlou/.pyenv/versions/3.10.13/envs/kedro/lib/python3.10/site-packages/kedro/ipython/__init__.py\" target=\"_blank\"><span style=\"color: #7f7f7f; text-decoration-color: #7f7f7f\">__init__.py</span></a><span style=\"color: #7f7f7f; text-decoration-color: #7f7f7f\">:</span><a href=\"file:///Users/gavinlou/.pyenv/versions/3.10.13/envs/kedro/lib/python3.10/site-packages/kedro/ipython/__init__.py#134\" target=\"_blank\"><span style=\"color: #7f7f7f; text-decoration-color: #7f7f7f\">134</span></a>\n",
       "</pre>\n"
      ],
      "text/plain": [
       "\u001b[2;36m[05/16/24 16:10:28]\u001b[0m\u001b[2;36m \u001b[0m\u001b[34mINFO    \u001b[0m Kedro project gasAI                                                    \u001b]8;id=92746;file:///Users/gavinlou/.pyenv/versions/3.10.13/envs/kedro/lib/python3.10/site-packages/kedro/ipython/__init__.py\u001b\\\u001b[2m__init__.py\u001b[0m\u001b]8;;\u001b\\\u001b[2m:\u001b[0m\u001b]8;id=845985;file:///Users/gavinlou/.pyenv/versions/3.10.13/envs/kedro/lib/python3.10/site-packages/kedro/ipython/__init__.py#134\u001b\\\u001b[2m134\u001b[0m\u001b]8;;\u001b\\\n"
      ]
     },
     "metadata": {},
     "output_type": "display_data"
    },
    {
     "data": {
      "text/html": [
       "<pre style=\"white-space:pre;overflow-x:auto;line-height:normal;font-family:Menlo,'DejaVu Sans Mono',consolas,'Courier New',monospace\"><span style=\"color: #7fbfbf; text-decoration-color: #7fbfbf\">                    </span><span style=\"color: #000080; text-decoration-color: #000080\">INFO    </span> Defined global variable <span style=\"color: #008000; text-decoration-color: #008000\">'context'</span>, <span style=\"color: #008000; text-decoration-color: #008000\">'session'</span>, <span style=\"color: #008000; text-decoration-color: #008000\">'catalog'</span> and            <a href=\"file:///Users/gavinlou/.pyenv/versions/3.10.13/envs/kedro/lib/python3.10/site-packages/kedro/ipython/__init__.py\" target=\"_blank\"><span style=\"color: #7f7f7f; text-decoration-color: #7f7f7f\">__init__.py</span></a><span style=\"color: #7f7f7f; text-decoration-color: #7f7f7f\">:</span><a href=\"file:///Users/gavinlou/.pyenv/versions/3.10.13/envs/kedro/lib/python3.10/site-packages/kedro/ipython/__init__.py#135\" target=\"_blank\"><span style=\"color: #7f7f7f; text-decoration-color: #7f7f7f\">135</span></a>\n",
       "<span style=\"color: #7fbfbf; text-decoration-color: #7fbfbf\">                    </span>         <span style=\"color: #008000; text-decoration-color: #008000\">'pipelines'</span>                                                            <span style=\"color: #7f7f7f; text-decoration-color: #7f7f7f\">               </span>\n",
       "</pre>\n"
      ],
      "text/plain": [
       "\u001b[2;36m                   \u001b[0m\u001b[2;36m \u001b[0m\u001b[34mINFO    \u001b[0m Defined global variable \u001b[32m'context'\u001b[0m, \u001b[32m'session'\u001b[0m, \u001b[32m'catalog'\u001b[0m and            \u001b]8;id=466491;file:///Users/gavinlou/.pyenv/versions/3.10.13/envs/kedro/lib/python3.10/site-packages/kedro/ipython/__init__.py\u001b\\\u001b[2m__init__.py\u001b[0m\u001b]8;;\u001b\\\u001b[2m:\u001b[0m\u001b]8;id=131320;file:///Users/gavinlou/.pyenv/versions/3.10.13/envs/kedro/lib/python3.10/site-packages/kedro/ipython/__init__.py#135\u001b\\\u001b[2m135\u001b[0m\u001b]8;;\u001b\\\n",
       "\u001b[2;36m                    \u001b[0m         \u001b[32m'pipelines'\u001b[0m                                                            \u001b[2m               \u001b[0m\n"
      ]
     },
     "metadata": {},
     "output_type": "display_data"
    },
    {
     "data": {
      "text/html": [
       "<pre style=\"white-space:pre;overflow-x:auto;line-height:normal;font-family:Menlo,'DejaVu Sans Mono',consolas,'Courier New',monospace\"><span style=\"color: #7fbfbf; text-decoration-color: #7fbfbf\">[05/16/24 16:10:29] </span><span style=\"color: #000080; text-decoration-color: #000080\">INFO    </span> Registered line magic <span style=\"color: #008000; text-decoration-color: #008000\">'run_viz'</span>                                        <a href=\"file:///Users/gavinlou/.pyenv/versions/3.10.13/envs/kedro/lib/python3.10/site-packages/kedro/ipython/__init__.py\" target=\"_blank\"><span style=\"color: #7f7f7f; text-decoration-color: #7f7f7f\">__init__.py</span></a><span style=\"color: #7f7f7f; text-decoration-color: #7f7f7f\">:</span><a href=\"file:///Users/gavinlou/.pyenv/versions/3.10.13/envs/kedro/lib/python3.10/site-packages/kedro/ipython/__init__.py#141\" target=\"_blank\"><span style=\"color: #7f7f7f; text-decoration-color: #7f7f7f\">141</span></a>\n",
       "</pre>\n"
      ],
      "text/plain": [
       "\u001b[2;36m[05/16/24 16:10:29]\u001b[0m\u001b[2;36m \u001b[0m\u001b[34mINFO    \u001b[0m Registered line magic \u001b[32m'run_viz'\u001b[0m                                        \u001b]8;id=542026;file:///Users/gavinlou/.pyenv/versions/3.10.13/envs/kedro/lib/python3.10/site-packages/kedro/ipython/__init__.py\u001b\\\u001b[2m__init__.py\u001b[0m\u001b]8;;\u001b\\\u001b[2m:\u001b[0m\u001b]8;id=407314;file:///Users/gavinlou/.pyenv/versions/3.10.13/envs/kedro/lib/python3.10/site-packages/kedro/ipython/__init__.py#141\u001b\\\u001b[2m141\u001b[0m\u001b]8;;\u001b\\\n"
      ]
     },
     "metadata": {},
     "output_type": "display_data"
    },
    {
     "data": {
      "text/html": [
       "<pre style=\"white-space:pre;overflow-x:auto;line-height:normal;font-family:Menlo,'DejaVu Sans Mono',consolas,'Courier New',monospace\"><span style=\"color: #7fbfbf; text-decoration-color: #7fbfbf\">                    </span><span style=\"color: #000080; text-decoration-color: #000080\">INFO    </span> Loading data from <span style=\"color: #ff8700; text-decoration-color: #ff8700\">s3_conc_aligned_df</span> <span style=\"font-weight: bold\">(</span>ParquetDataset<span style=\"font-weight: bold\">)</span><span style=\"color: #808000; text-decoration-color: #808000\">...</span>           <a href=\"file:///Users/gavinlou/.pyenv/versions/3.10.13/envs/kedro/lib/python3.10/site-packages/kedro/io/data_catalog.py\" target=\"_blank\"><span style=\"color: #7f7f7f; text-decoration-color: #7f7f7f\">data_catalog.py</span></a><span style=\"color: #7f7f7f; text-decoration-color: #7f7f7f\">:</span><a href=\"file:///Users/gavinlou/.pyenv/versions/3.10.13/envs/kedro/lib/python3.10/site-packages/kedro/io/data_catalog.py#483\" target=\"_blank\"><span style=\"color: #7f7f7f; text-decoration-color: #7f7f7f\">483</span></a>\n",
       "</pre>\n"
      ],
      "text/plain": [
       "\u001b[2;36m                   \u001b[0m\u001b[2;36m \u001b[0m\u001b[34mINFO    \u001b[0m Loading data from \u001b[38;5;208ms3_conc_aligned_df\u001b[0m \u001b[1m(\u001b[0mParquetDataset\u001b[1m)\u001b[0m\u001b[33m...\u001b[0m           \u001b]8;id=703722;file:///Users/gavinlou/.pyenv/versions/3.10.13/envs/kedro/lib/python3.10/site-packages/kedro/io/data_catalog.py\u001b\\\u001b[2mdata_catalog.py\u001b[0m\u001b]8;;\u001b\\\u001b[2m:\u001b[0m\u001b]8;id=410281;file:///Users/gavinlou/.pyenv/versions/3.10.13/envs/kedro/lib/python3.10/site-packages/kedro/io/data_catalog.py#483\u001b\\\u001b[2m483\u001b[0m\u001b]8;;\u001b\\\n"
      ]
     },
     "metadata": {},
     "output_type": "display_data"
    }
   ],
   "source": [
    "%load_ext kedro.ipython\n",
    "df = catalog.load(\"s3_conc_aligned_df\")\n",
    "# df = catalog.load(\"s3_cluster_df\")"
   ]
  },
  {
   "cell_type": "code",
   "execution_count": 34,
   "metadata": {},
   "outputs": [
    {
     "data": {
      "text/html": [
       "<pre style=\"white-space:pre;overflow-x:auto;line-height:normal;font-family:Menlo,'DejaVu Sans Mono',consolas,'Courier New',monospace\"><span style=\"color: #800000; text-decoration-color: #800000\">╭─────────────────────────────── </span><span style=\"color: #800000; text-decoration-color: #800000; font-weight: bold\">Traceback </span><span style=\"color: #bf7f7f; text-decoration-color: #bf7f7f; font-weight: bold\">(most recent call last)</span><span style=\"color: #800000; text-decoration-color: #800000\"> ────────────────────────────────╮</span>\n",
       "<span style=\"color: #800000; text-decoration-color: #800000\">│</span> in <span style=\"color: #00ff00; text-decoration-color: #00ff00\">&lt;module&gt;</span>:<span style=\"color: #0000ff; text-decoration-color: #0000ff\">76</span>                                                                                   <span style=\"color: #800000; text-decoration-color: #800000\">│</span>\n",
       "<span style=\"color: #800000; text-decoration-color: #800000\">│</span>                                                                                                  <span style=\"color: #800000; text-decoration-color: #800000\">│</span>\n",
       "<span style=\"color: #800000; text-decoration-color: #800000\">│</span>   <span style=\"color: #7f7f7f; text-decoration-color: #7f7f7f\">73 </span>                                                                                            <span style=\"color: #800000; text-decoration-color: #800000\">│</span>\n",
       "<span style=\"color: #800000; text-decoration-color: #800000\">│</span>   <span style=\"color: #7f7f7f; text-decoration-color: #7f7f7f\">74 # Example: iterating through the data loader</span>                                                <span style=\"color: #800000; text-decoration-color: #800000\">│</span>\n",
       "<span style=\"color: #800000; text-decoration-color: #800000\">│</span>   <span style=\"color: #7f7f7f; text-decoration-color: #7f7f7f\">75 </span><span style=\"color: #0000ff; text-decoration-color: #0000ff\">for</span> batch_indices <span style=\"color: #ff00ff; text-decoration-color: #ff00ff\">in</span> data_loader:                                                           <span style=\"color: #800000; text-decoration-color: #800000\">│</span>\n",
       "<span style=\"color: #800000; text-decoration-color: #800000\">│</span> <span style=\"color: #800000; text-decoration-color: #800000\">❱ </span>76 <span style=\"color: #7f7f7f; text-decoration-color: #7f7f7f\">│   </span>X_batch = dataset.X[batch_indices]                                                      <span style=\"color: #800000; text-decoration-color: #800000\">│</span>\n",
       "<span style=\"color: #800000; text-decoration-color: #800000\">│</span>   <span style=\"color: #7f7f7f; text-decoration-color: #7f7f7f\">77 </span><span style=\"color: #7f7f7f; text-decoration-color: #7f7f7f\">│   </span>y_batch = dataset.y[batch_indices]                                                      <span style=\"color: #800000; text-decoration-color: #800000\">│</span>\n",
       "<span style=\"color: #800000; text-decoration-color: #800000\">│</span>   <span style=\"color: #7f7f7f; text-decoration-color: #7f7f7f\">78 </span><span style=\"color: #7f7f7f; text-decoration-color: #7f7f7f\">│   </span><span style=\"color: #00ffff; text-decoration-color: #00ffff\">print</span>(X_batch.shape, y_batch.shape, batch_indices)                                      <span style=\"color: #800000; text-decoration-color: #800000\">│</span>\n",
       "<span style=\"color: #800000; text-decoration-color: #800000\">│</span>   <span style=\"color: #7f7f7f; text-decoration-color: #7f7f7f\">79 </span>                                                                                            <span style=\"color: #800000; text-decoration-color: #800000\">│</span>\n",
       "<span style=\"color: #800000; text-decoration-color: #800000\">╰──────────────────────────────────────────────────────────────────────────────────────────────────╯</span>\n",
       "<span style=\"color: #ff0000; text-decoration-color: #ff0000; font-weight: bold\">IndexError: </span>too many indices for tensor of dimension <span style=\"color: #008080; text-decoration-color: #008080; font-weight: bold\">2</span>\n",
       "</pre>\n"
      ],
      "text/plain": [
       "\u001b[31m╭─\u001b[0m\u001b[31m──────────────────────────────\u001b[0m\u001b[31m \u001b[0m\u001b[1;31mTraceback \u001b[0m\u001b[1;2;31m(most recent call last)\u001b[0m\u001b[31m \u001b[0m\u001b[31m───────────────────────────────\u001b[0m\u001b[31m─╮\u001b[0m\n",
       "\u001b[31m│\u001b[0m in \u001b[92m<module>\u001b[0m:\u001b[94m76\u001b[0m                                                                                   \u001b[31m│\u001b[0m\n",
       "\u001b[31m│\u001b[0m                                                                                                  \u001b[31m│\u001b[0m\n",
       "\u001b[31m│\u001b[0m   \u001b[2m73 \u001b[0m                                                                                            \u001b[31m│\u001b[0m\n",
       "\u001b[31m│\u001b[0m   \u001b[2m74 \u001b[0m\u001b[2m# Example: iterating through the data loader\u001b[0m                                                \u001b[31m│\u001b[0m\n",
       "\u001b[31m│\u001b[0m   \u001b[2m75 \u001b[0m\u001b[94mfor\u001b[0m batch_indices \u001b[95min\u001b[0m data_loader:                                                           \u001b[31m│\u001b[0m\n",
       "\u001b[31m│\u001b[0m \u001b[31m❱ \u001b[0m76 \u001b[2m│   \u001b[0mX_batch = dataset.X[batch_indices]                                                      \u001b[31m│\u001b[0m\n",
       "\u001b[31m│\u001b[0m   \u001b[2m77 \u001b[0m\u001b[2m│   \u001b[0my_batch = dataset.y[batch_indices]                                                      \u001b[31m│\u001b[0m\n",
       "\u001b[31m│\u001b[0m   \u001b[2m78 \u001b[0m\u001b[2m│   \u001b[0m\u001b[96mprint\u001b[0m(X_batch.shape, y_batch.shape, batch_indices)                                      \u001b[31m│\u001b[0m\n",
       "\u001b[31m│\u001b[0m   \u001b[2m79 \u001b[0m                                                                                            \u001b[31m│\u001b[0m\n",
       "\u001b[31m╰──────────────────────────────────────────────────────────────────────────────────────────────────╯\u001b[0m\n",
       "\u001b[1;91mIndexError: \u001b[0mtoo many indices for tensor of dimension \u001b[1;36m2\u001b[0m\n"
      ]
     },
     "metadata": {},
     "output_type": "display_data"
    }
   ],
   "source": [
    "import torch\n",
    "from torch.utils.data import Dataset, DataLoader\n",
    "import numpy as np\n",
    "import pandas as pd\n",
    "\n",
    "class GroupDataset(Dataset):\n",
    "    def __init__(self, X, y, groups):\n",
    "        self.X = X\n",
    "        self.y = y\n",
    "        self.groups = groups\n",
    "        self.group_to_indices = self._group_indices()\n",
    "\n",
    "    def _group_indices(self):\n",
    "        group_to_indices = {}\n",
    "        for idx, group in enumerate(self.groups):\n",
    "            if group not in group_to_indices:\n",
    "                group_to_indices[group] = []\n",
    "            group_to_indices[group].append(idx)\n",
    "        return group_to_indices\n",
    "\n",
    "    def __len__(self):\n",
    "        return len(self.X)\n",
    "\n",
    "    def __getitem__(self, idx):\n",
    "        return self.X[idx], self.y[idx], self.groups[idx]\n",
    "\n",
    "class ExperimentSampler:\n",
    "    def __init__(self, group_to_indices, batch_size):\n",
    "        self.group_to_indices = group_to_indices\n",
    "        self.batch_size = batch_size\n",
    "        self.group_order = list(group_to_indices.keys())\n",
    "        np.random.shuffle(self.group_order)\n",
    "\n",
    "    def __iter__(self):\n",
    "        for group in self.group_order:\n",
    "            indices = self.group_to_indices[group]\n",
    "            for i in range(0, len(indices), self.batch_size):\n",
    "                yield indices[i:i + self.batch_size]\n",
    "\n",
    "    def __len__(self):\n",
    "        # Total number of batches across all groups\n",
    "        total_batches = 0\n",
    "        for indices in self.group_to_indices.values():\n",
    "            total_batches += (len(indices) + self.batch_size - 1) // self.batch_size\n",
    "        return total_batches\n",
    "\n",
    "batch_size = 4\n",
    "\n",
    "# Define the features and target\n",
    "features = ['timestamp_bin', 'A1_Resistance']\n",
    "target = 'resistance_ratio'\n",
    "\n",
    "# Extract the feature matrix and target vector\n",
    "X_tensor = df[features]\n",
    "y_tensor = df[target]\n",
    "groups = df['exp_no']\n",
    "\n",
    "# Convert to PyTorch tensors\n",
    "X_tensor = torch.tensor(X_tensor.values, dtype=torch.float32)\n",
    "y_tensor = torch.tensor(y_tensor.values, dtype=torch.float32)\n",
    "\n",
    "# Convert groups to NumPy array\n",
    "groups = np.array(groups)\n",
    "\n",
    "# Create dataset\n",
    "dataset = GroupDataset(X_tensor, y_tensor, groups)\n",
    "\n",
    "# Create experiment sampler\n",
    "experiment_sampler = ExperimentSampler(dataset.group_to_indices, batch_size)\n",
    "\n",
    "# Create data loader\n",
    "data_loader = DataLoader(dataset, batch_sampler=experiment_sampler)\n",
    "\n",
    "# Example: iterating through the data loader\n",
    "for batch_indices in data_loader:\n",
    "    X_batch = dataset.X[batch_indices]\n",
    "    y_batch = dataset.y[batch_indices]\n",
    "    print(X_batch.shape, y_batch.shape, batch_indices)\n"
   ]
  },
  {
   "cell_type": "markdown",
   "metadata": {},
   "source": [
    "# Use of GSS library"
   ]
  },
  {
   "cell_type": "code",
   "execution_count": 45,
   "metadata": {},
   "outputs": [
    {
     "name": "stdout",
     "output_type": "stream",
     "text": [
      "Batch indices: [tensor([      0.0000, 1436449.3750]), tensor([1.0000e+00, 1.4342e+06]), tensor([2.0000e+00, 1.4345e+06]), tensor([3.0000e+00, 1.4329e+06]), tensor([4.0000e+00, 1.4313e+06]), tensor([5.0000e+00, 1.4310e+06]), tensor([6.0000e+00, 1.4256e+06]), tensor([7.0000e+00, 1.4256e+06]), tensor([8.0000e+00, 1.4190e+06]), tensor([9.0000e+00, 1.4153e+06]), tensor([1.0000e+01, 1.4131e+06]), tensor([1.1000e+01, 1.4079e+06]), tensor([1.2000e+01, 1.4026e+06]), tensor([1.3000e+01, 1.3984e+06]), tensor([1.4000e+01, 1.3926e+06]), tensor([1.5000e+01, 1.3893e+06]), tensor(0.7553), tensor(0.7553), tensor(0.7553), tensor(0.7553), tensor(0.7553), tensor(0.7553), tensor(0.7553), tensor(0.7553), tensor(0.7553), tensor(0.7553), tensor(0.7553), tensor(0.7553), tensor(0.7553), tensor(0.7553), tensor(0.7553), tensor(0.7553), tensor(153), tensor(153), tensor(153), tensor(153), tensor(153), tensor(153), tensor(153), tensor(153), tensor(153), tensor(153), tensor(153), tensor(153), tensor(153), tensor(153), tensor(153), tensor(153)]\n"
     ]
    },
    {
     "data": {
      "text/html": [
       "<pre style=\"white-space:pre;overflow-x:auto;line-height:normal;font-family:Menlo,'DejaVu Sans Mono',consolas,'Courier New',monospace\"><span style=\"color: #800000; text-decoration-color: #800000\">╭─────────────────────────────── </span><span style=\"color: #800000; text-decoration-color: #800000; font-weight: bold\">Traceback </span><span style=\"color: #bf7f7f; text-decoration-color: #bf7f7f; font-weight: bold\">(most recent call last)</span><span style=\"color: #800000; text-decoration-color: #800000\"> ────────────────────────────────╮</span>\n",
       "<span style=\"color: #800000; text-decoration-color: #800000\">│</span> in <span style=\"color: #00ff00; text-decoration-color: #00ff00\">&lt;module&gt;</span>:<span style=\"color: #0000ff; text-decoration-color: #0000ff\">86</span>                                                                                   <span style=\"color: #800000; text-decoration-color: #800000\">│</span>\n",
       "<span style=\"color: #800000; text-decoration-color: #800000\">│</span>                                                                                                  <span style=\"color: #800000; text-decoration-color: #800000\">│</span>\n",
       "<span style=\"color: #800000; text-decoration-color: #800000\">│</span>   <span style=\"color: #7f7f7f; text-decoration-color: #7f7f7f\">83 </span><span style=\"color: #7f7f7f; text-decoration-color: #7f7f7f\">│   </span><span style=\"color: #00ffff; text-decoration-color: #00ffff\">print</span>(<span style=\"color: #808000; text-decoration-color: #808000\">\"Batch indices:\"</span>, batch_indices)                                                  <span style=\"color: #800000; text-decoration-color: #800000\">│</span>\n",
       "<span style=\"color: #800000; text-decoration-color: #800000\">│</span>   <span style=\"color: #7f7f7f; text-decoration-color: #7f7f7f\">84 </span><span style=\"color: #7f7f7f; text-decoration-color: #7f7f7f\">│   </span>                                                                                        <span style=\"color: #800000; text-decoration-color: #800000\">│</span>\n",
       "<span style=\"color: #800000; text-decoration-color: #800000\">│</span>   <span style=\"color: #7f7f7f; text-decoration-color: #7f7f7f\">85 </span><span style=\"color: #7f7f7f; text-decoration-color: #7f7f7f\">│   </span><span style=\"color: #7f7f7f; text-decoration-color: #7f7f7f\"># Convert batch_indices to a tensor</span>                                                     <span style=\"color: #800000; text-decoration-color: #800000\">│</span>\n",
       "<span style=\"color: #800000; text-decoration-color: #800000\">│</span> <span style=\"color: #800000; text-decoration-color: #800000\">❱ </span>86 <span style=\"color: #7f7f7f; text-decoration-color: #7f7f7f\">│   </span>batch_indices_tensor = torch.tensor(batch_indices, dtype=torch.long)                    <span style=\"color: #800000; text-decoration-color: #800000\">│</span>\n",
       "<span style=\"color: #800000; text-decoration-color: #800000\">│</span>   <span style=\"color: #7f7f7f; text-decoration-color: #7f7f7f\">87 </span><span style=\"color: #7f7f7f; text-decoration-color: #7f7f7f\">│   </span>                                                                                        <span style=\"color: #800000; text-decoration-color: #800000\">│</span>\n",
       "<span style=\"color: #800000; text-decoration-color: #800000\">│</span>   <span style=\"color: #7f7f7f; text-decoration-color: #7f7f7f\">88 </span><span style=\"color: #7f7f7f; text-decoration-color: #7f7f7f\">│   </span><span style=\"color: #7f7f7f; text-decoration-color: #7f7f7f\"># Diagnostic print to check the tensor</span>                                                  <span style=\"color: #800000; text-decoration-color: #800000\">│</span>\n",
       "<span style=\"color: #800000; text-decoration-color: #800000\">│</span>   <span style=\"color: #7f7f7f; text-decoration-color: #7f7f7f\">89 </span><span style=\"color: #7f7f7f; text-decoration-color: #7f7f7f\">│   </span><span style=\"color: #00ffff; text-decoration-color: #00ffff\">print</span>(<span style=\"color: #808000; text-decoration-color: #808000\">\"Batch indices tensor:\"</span>, batch_indices_tensor)                                    <span style=\"color: #800000; text-decoration-color: #800000\">│</span>\n",
       "<span style=\"color: #800000; text-decoration-color: #800000\">╰──────────────────────────────────────────────────────────────────────────────────────────────────╯</span>\n",
       "<span style=\"color: #ff0000; text-decoration-color: #ff0000; font-weight: bold\">TypeError: </span>only integer tensors of a single element can be converted to an index\n",
       "</pre>\n"
      ],
      "text/plain": [
       "\u001b[31m╭─\u001b[0m\u001b[31m──────────────────────────────\u001b[0m\u001b[31m \u001b[0m\u001b[1;31mTraceback \u001b[0m\u001b[1;2;31m(most recent call last)\u001b[0m\u001b[31m \u001b[0m\u001b[31m───────────────────────────────\u001b[0m\u001b[31m─╮\u001b[0m\n",
       "\u001b[31m│\u001b[0m in \u001b[92m<module>\u001b[0m:\u001b[94m86\u001b[0m                                                                                   \u001b[31m│\u001b[0m\n",
       "\u001b[31m│\u001b[0m                                                                                                  \u001b[31m│\u001b[0m\n",
       "\u001b[31m│\u001b[0m   \u001b[2m83 \u001b[0m\u001b[2m│   \u001b[0m\u001b[96mprint\u001b[0m(\u001b[33m\"\u001b[0m\u001b[33mBatch indices:\u001b[0m\u001b[33m\"\u001b[0m, batch_indices)                                                  \u001b[31m│\u001b[0m\n",
       "\u001b[31m│\u001b[0m   \u001b[2m84 \u001b[0m\u001b[2m│   \u001b[0m                                                                                        \u001b[31m│\u001b[0m\n",
       "\u001b[31m│\u001b[0m   \u001b[2m85 \u001b[0m\u001b[2m│   \u001b[0m\u001b[2m# Convert batch_indices to a tensor\u001b[0m                                                     \u001b[31m│\u001b[0m\n",
       "\u001b[31m│\u001b[0m \u001b[31m❱ \u001b[0m86 \u001b[2m│   \u001b[0mbatch_indices_tensor = torch.tensor(batch_indices, dtype=torch.long)                    \u001b[31m│\u001b[0m\n",
       "\u001b[31m│\u001b[0m   \u001b[2m87 \u001b[0m\u001b[2m│   \u001b[0m                                                                                        \u001b[31m│\u001b[0m\n",
       "\u001b[31m│\u001b[0m   \u001b[2m88 \u001b[0m\u001b[2m│   \u001b[0m\u001b[2m# Diagnostic print to check the tensor\u001b[0m                                                  \u001b[31m│\u001b[0m\n",
       "\u001b[31m│\u001b[0m   \u001b[2m89 \u001b[0m\u001b[2m│   \u001b[0m\u001b[96mprint\u001b[0m(\u001b[33m\"\u001b[0m\u001b[33mBatch indices tensor:\u001b[0m\u001b[33m\"\u001b[0m, batch_indices_tensor)                                    \u001b[31m│\u001b[0m\n",
       "\u001b[31m╰──────────────────────────────────────────────────────────────────────────────────────────────────╯\u001b[0m\n",
       "\u001b[1;91mTypeError: \u001b[0monly integer tensors of a single element can be converted to an index\n"
      ]
     },
     "metadata": {},
     "output_type": "display_data"
    }
   ],
   "source": [
    "import torch\n",
    "from torch.utils.data import Dataset, DataLoader\n",
    "import numpy as np\n",
    "from sklearn.model_selection import GroupShuffleSplit\n",
    "\n",
    "class GroupDataset(Dataset):\n",
    "    def __init__(self, X, y, groups):\n",
    "        self.X = X\n",
    "        self.y = y\n",
    "        self.groups = groups\n",
    "        self.group_to_indices = self._group_indices()\n",
    "\n",
    "    def _group_indices(self):\n",
    "        group_to_indices = {}\n",
    "        for idx, group in enumerate(self.groups):\n",
    "            if group not in group_to_indices:\n",
    "                group_to_indices[group] = []\n",
    "            group_to_indices[group].append(idx)\n",
    "        return group_to_indices\n",
    "\n",
    "    def __len__(self):\n",
    "        return len(self.X)\n",
    "\n",
    "    def __getitem__(self, idx):\n",
    "        print(\"Getting item at index:\", idx)\n",
    "        return self.X[idx], self.y[idx], self.groups[idx]\n",
    "\n",
    "class ExperimentSampler:\n",
    "    def __init__(self, group_to_indices, batch_size):\n",
    "        self.group_to_indices = group_to_indices\n",
    "        self.batch_size = batch_size\n",
    "        self.group_order = list(group_to_indices.keys())\n",
    "        np.random.shuffle(self.group_order)  # Shuffle the order of groups\n",
    "\n",
    "    def __iter__(self):\n",
    "        for group in self.group_order:\n",
    "            indices = self.group_to_indices[group]\n",
    "            for i in range(0, len(indices), self.batch_size):\n",
    "                batch = indices[i:i + self.batch_size]  # Yield a batch of indices\n",
    "                print(\"Yielding batch indices:\", batch)\n",
    "                yield batch\n",
    "                # yield indices[i:i + self.batch_size]\n",
    "\n",
    "    def __len__(self):\n",
    "        total_batches = 0\n",
    "        for indices in self.group_to_indices.values():\n",
    "            total_batches += (len(indices) + self.batch_size - 1) // self.batch_size\n",
    "        return total_batches\n",
    "\n",
    "# Define the features and target\n",
    "features = ['timestamp_bin', 'A1_Resistance']\n",
    "target = 'resistance_ratio'\n",
    "X_tensor = df[features]\n",
    "y_tensor = df[target]\n",
    "groups = df['exp_no']\n",
    "\n",
    "# Convert to PyTorch tensors\n",
    "X_tensor = torch.tensor(X_tensor.values, dtype=torch.float32)\n",
    "y_tensor = torch.tensor(y_tensor.values, dtype=torch.float32)\n",
    "# Convert groups to NumPy array\n",
    "groups = np.array(groups)\n",
    "\n",
    "# Create dataset\n",
    "dataset = GroupDataset(X_tensor, y_tensor, groups)\n",
    "\n",
    "# Split the data into training and testing sets using GroupShuffleSplit\n",
    "gss = GroupShuffleSplit(test_size=0.2, n_splits=1, random_state=42)\n",
    "train_idx, test_idx = next(gss.split(X_tensor, y_tensor, groups=groups))\n",
    "\n",
    "train_dataset = GroupDataset(X_tensor[train_idx], y_tensor[train_idx], groups[train_idx])\n",
    "test_dataset = GroupDataset(X_tensor[test_idx], y_tensor[test_idx], groups[test_idx])\n",
    "\n",
    "# Create experiment samplers\n",
    "train_sampler = ExperimentSampler(train_dataset.group_to_indices, batch_size)\n",
    "test_sampler = ExperimentSampler(test_dataset.group_to_indices, batch_size)\n",
    "\n",
    "# Create data loaders\n",
    "train_loader = DataLoader(train_dataset, batch_sampler=train_sampler)\n",
    "test_loader = DataLoader(test_dataset, batch_sampler=test_sampler)\n",
    "\n",
    "# Example: iterating through the train data loader\n",
    "for batch_indices in train_loader:\n",
    "    # Flatten the list of indices\n",
    "    batch_indices = [item for sublist in batch_indices for item in sublist]\n",
    "    \n",
    "    # Diagnostic print to check the contents of batch_indices\n",
    "    print(\"Batch indices:\", batch_indices)\n",
    "\n",
    "    # Convert batch_indices to a tensor\n",
    "    batch_indices_tensor = torch.tensor(batch_indices, dtype=torch.long)\n",
    "\n",
    "    # Diagnostic print to check the tensor\n",
    "    print(\"Batch indices tensor:\", batch_indices_tensor)\n",
    "\n",
    "    # Index using the tensor of indices\n",
    "    X_batch = train_dataset.X[batch_indices_tensor]\n",
    "    y_batch = train_dataset.y[batch_indices_tensor]\n",
    "\n",
    "    # Print shapes to verify the correct batches are formed\n",
    "    print(X_batch.shape, y_batch.shape)\n"
   ]
  },
  {
   "cell_type": "markdown",
   "metadata": {},
   "source": [
    "# GSS rebuild block by block"
   ]
  },
  {
   "cell_type": "code",
   "execution_count": 18,
   "metadata": {},
   "outputs": [],
   "source": [
    "# Create dataset\n",
    "dataset = GroupDataset(X_tensor, y_tensor, groups)\n",
    "# Split the data into training and testing sets using GroupShuffleSplit\n",
    "gss = GroupShuffleSplit(test_size=0.2, n_splits=1, random_state=42)\n",
    "train_idx, test_idx = next(gss.split(X_tensor, y_tensor, groups=groups))"
   ]
  },
  {
   "cell_type": "code",
   "execution_count": 31,
   "metadata": {},
   "outputs": [],
   "source": [
    "import pandas as pd\n",
    "# Ensure train_idx and test_idx are NumPy arrays\n",
    "train_idx = np.array(train_idx)\n",
    "test_idx = np.array(test_idx)\n",
    "\n",
    "# Convert X_tensor and y_tensor from DataFrame to Tensor\n",
    "X_tensor = torch.tensor(X_tensor.values) if isinstance(X_tensor, pd.DataFrame) else X_tensor\n",
    "y_tensor = torch.tensor(y_tensor.values) if isinstance(y_tensor, pd.DataFrame) else y_tensor\n",
    "\n",
    "# Ensure groups is a NumPy array\n",
    "groups = np.array(groups) if not isinstance(groups, np.ndarray) else groups"
   ]
  },
  {
   "cell_type": "code",
   "execution_count": null,
   "metadata": {},
   "outputs": [],
   "source": [
    "import torch\n",
    "from torch.utils.data import Dataset, DataLoader\n",
    "import numpy as np\n",
    "from sklearn.model_selection import GroupShuffleSplit\n",
    "\n",
    "class GroupDataset(Dataset):\n",
    "    def __init__(self, X, y, groups):\n",
    "        self.X = X\n",
    "        self.y = y\n",
    "        self.groups = groups\n",
    "        self.group_to_indices = self._group_indices()\n",
    "\n",
    "    def _group_indices(self):\n",
    "        group_to_indices = {}\n",
    "        for idx, group in enumerate(self.groups):\n",
    "            if group not in group_to_indices:\n",
    "                group_to_indices[group] = []\n",
    "            group_to_indices[group].append(idx)\n",
    "        return group_to_indices\n",
    "\n",
    "    def __len__(self):\n",
    "        return len(self.X)\n",
    "\n",
    "    def __getitem__(self, idx):\n",
    "        return self.X[idx], self.y[idx], self.groups[idx]\n",
    "\n",
    "class ExperimentSampler:\n",
    "    def __init__(self, group_to_indices, batch_size):\n",
    "        self.group_to_indices = group_to_indices\n",
    "        self.batch_size = batch_size\n",
    "        self.group_order = list(group_to_indices.keys())\n",
    "        np.random.shuffle(self.group_order)  # Shuffle the order of groups\n",
    "\n",
    "    def __iter__(self):\n",
    "        for group in self.group_order:\n",
    "            indices = self.group_to_indices[group]\n",
    "            for i in range(0, len(indices), self.batch_size):\n",
    "                yield indices[i:i + self.batch_size]\n",
    "\n",
    "    def __len__(self):\n",
    "        total_batches = 0\n",
    "        for indices in self.group_to_indices.values():\n",
    "            total_batches += (len(indices) + self.batch_size - 1) // self.batch_size\n",
    "        return total_batches\n",
    "\n",
    "# Define the features and target\n",
    "features = ['timestamp_bin', 'A1_Resistance']\n",
    "target = 'resistance_ratio'\n",
    "X_tensor = df[features]\n",
    "y_tensor = df[target]\n",
    "groups = df['exp_no']\n",
    "\n",
    "# Convert to PyTorch tensors\n",
    "X_tensor = torch.tensor(X_tensor.values, dtype=torch.float32)\n",
    "y_tensor = torch.tensor(y_tensor.values, dtype=torch.float32)\n",
    "# Convert groups to NumPy array\n",
    "groups = np.array(groups)\n",
    "\n",
    "# Create dataset\n",
    "dataset = GroupDataset(X_tensor, y_tensor, groups)\n",
    "\n",
    "# Split the data into training and testing sets using GroupShuffleSplit\n",
    "gss = GroupShuffleSplit(test_size=0.2, n_splits=1, random_state=42)\n",
    "train_idx, test_idx = next(gss.split(X_tensor, y_tensor, groups=groups))\n",
    "\n",
    "train_dataset = GroupDataset(X_tensor[train_idx], y_tensor[train_idx], groups[train_idx])\n",
    "test_dataset = GroupDataset(X_tensor[test_idx], y_tensor[test_idx], groups[test_idx])\n",
    "\n",
    "# Set the batch size\n",
    "batch_size = 16\n",
    "\n",
    "# Create experiment samplers\n",
    "train_sampler = ExperimentSampler(train_dataset.group_to_indices, batch_size)\n",
    "test_sampler = ExperimentSampler(test_dataset.group_to_indices, batch_size)\n",
    "\n",
    "# Create data loaders\n",
    "train_loader = DataLoader(train_dataset, batch_sampler=train_sampler)\n",
    "test_loader = DataLoader(test_dataset, batch_sampler=test_sampler)\n",
    "\n",
    "# # Example: iterating through the train data loader\n",
    "# print(\"Train Batches:\")\n",
    "# for batch_indices in train_loader:\n",
    "#     # Convert batch_indices to a list if it's a tensor\n",
    "#     if isinstance(batch_indices, torch.Tensor):\n",
    "#         batch_indices = batch_indices.tolist()\n",
    "\n",
    "#     X_batch = train_dataset.X[batch_indices]\n",
    "#     y_batch = train_dataset.y[batch_indices]\n",
    "#     print(X_batch.shape, y_batch.shape, batch_indices)\n"
   ]
  }
 ],
 "metadata": {
  "kernelspec": {
   "display_name": "kedro",
   "language": "python",
   "name": "python3"
  },
  "language_info": {
   "codemirror_mode": {
    "name": "ipython",
    "version": 3
   },
   "file_extension": ".py",
   "mimetype": "text/x-python",
   "name": "python",
   "nbconvert_exporter": "python",
   "pygments_lexer": "ipython3",
   "version": "3.10.13"
  }
 },
 "nbformat": 4,
 "nbformat_minor": 2
}
